{
 "cells": [
  {
   "cell_type": "markdown",
   "id": "fbf974d8-a786-4ed4-bfe7-f277f2795107",
   "metadata": {},
   "source": [
    "# Gradient Boosting Classification from Scratch"
   ]
  },
  {
   "cell_type": "markdown",
   "id": "e01e01b7-42db-4634-b119-d678e3934604",
   "metadata": {},
   "source": [
    "## Prepare the Data"
   ]
  },
  {
   "cell_type": "markdown",
   "id": "7bf30bc7-9186-4d38-bb6d-186451d41ff2",
   "metadata": {},
   "source": [
    "### Loading the Data"
   ]
  },
  {
   "cell_type": "code",
   "execution_count": 1,
   "id": "65c6160d-4fbb-49b4-9817-ba5820c1cc21",
   "metadata": {},
   "outputs": [],
   "source": [
    "from sklearn import datasets\n",
    "import pandas as pd\n",
    "from IPython.core.interactiveshell import InteractiveShell\n",
    "InteractiveShell.ast_node_interactivity = \"all\"\n",
    "\n",
    "# Load the breast_cancer toy dataset\n",
    "cancer = datasets.load_breast_cancer(as_frame = True)"
   ]
  },
  {
   "cell_type": "code",
   "execution_count": 2,
   "id": "a306e2eb-92f4-4fbe-b13e-a71d1d91deee",
   "metadata": {},
   "outputs": [
    {
     "data": {
      "text/html": [
       "<div>\n",
       "<style scoped>\n",
       "    .dataframe tbody tr th:only-of-type {\n",
       "        vertical-align: middle;\n",
       "    }\n",
       "\n",
       "    .dataframe tbody tr th {\n",
       "        vertical-align: top;\n",
       "    }\n",
       "\n",
       "    .dataframe thead th {\n",
       "        text-align: right;\n",
       "    }\n",
       "</style>\n",
       "<table border=\"1\" class=\"dataframe\">\n",
       "  <thead>\n",
       "    <tr style=\"text-align: right;\">\n",
       "      <th></th>\n",
       "      <th>mean radius</th>\n",
       "      <th>mean texture</th>\n",
       "      <th>mean perimeter</th>\n",
       "      <th>mean area</th>\n",
       "      <th>mean smoothness</th>\n",
       "      <th>mean compactness</th>\n",
       "      <th>mean concavity</th>\n",
       "      <th>mean concave points</th>\n",
       "      <th>mean symmetry</th>\n",
       "      <th>mean fractal dimension</th>\n",
       "      <th>...</th>\n",
       "      <th>worst texture</th>\n",
       "      <th>worst perimeter</th>\n",
       "      <th>worst area</th>\n",
       "      <th>worst smoothness</th>\n",
       "      <th>worst compactness</th>\n",
       "      <th>worst concavity</th>\n",
       "      <th>worst concave points</th>\n",
       "      <th>worst symmetry</th>\n",
       "      <th>worst fractal dimension</th>\n",
       "      <th>target</th>\n",
       "    </tr>\n",
       "  </thead>\n",
       "  <tbody>\n",
       "    <tr>\n",
       "      <th>0</th>\n",
       "      <td>17.99</td>\n",
       "      <td>10.38</td>\n",
       "      <td>122.80</td>\n",
       "      <td>1001.0</td>\n",
       "      <td>0.11840</td>\n",
       "      <td>0.27760</td>\n",
       "      <td>0.3001</td>\n",
       "      <td>0.14710</td>\n",
       "      <td>0.2419</td>\n",
       "      <td>0.07871</td>\n",
       "      <td>...</td>\n",
       "      <td>17.33</td>\n",
       "      <td>184.60</td>\n",
       "      <td>2019.0</td>\n",
       "      <td>0.1622</td>\n",
       "      <td>0.6656</td>\n",
       "      <td>0.7119</td>\n",
       "      <td>0.2654</td>\n",
       "      <td>0.4601</td>\n",
       "      <td>0.11890</td>\n",
       "      <td>0</td>\n",
       "    </tr>\n",
       "    <tr>\n",
       "      <th>1</th>\n",
       "      <td>20.57</td>\n",
       "      <td>17.77</td>\n",
       "      <td>132.90</td>\n",
       "      <td>1326.0</td>\n",
       "      <td>0.08474</td>\n",
       "      <td>0.07864</td>\n",
       "      <td>0.0869</td>\n",
       "      <td>0.07017</td>\n",
       "      <td>0.1812</td>\n",
       "      <td>0.05667</td>\n",
       "      <td>...</td>\n",
       "      <td>23.41</td>\n",
       "      <td>158.80</td>\n",
       "      <td>1956.0</td>\n",
       "      <td>0.1238</td>\n",
       "      <td>0.1866</td>\n",
       "      <td>0.2416</td>\n",
       "      <td>0.1860</td>\n",
       "      <td>0.2750</td>\n",
       "      <td>0.08902</td>\n",
       "      <td>0</td>\n",
       "    </tr>\n",
       "    <tr>\n",
       "      <th>2</th>\n",
       "      <td>19.69</td>\n",
       "      <td>21.25</td>\n",
       "      <td>130.00</td>\n",
       "      <td>1203.0</td>\n",
       "      <td>0.10960</td>\n",
       "      <td>0.15990</td>\n",
       "      <td>0.1974</td>\n",
       "      <td>0.12790</td>\n",
       "      <td>0.2069</td>\n",
       "      <td>0.05999</td>\n",
       "      <td>...</td>\n",
       "      <td>25.53</td>\n",
       "      <td>152.50</td>\n",
       "      <td>1709.0</td>\n",
       "      <td>0.1444</td>\n",
       "      <td>0.4245</td>\n",
       "      <td>0.4504</td>\n",
       "      <td>0.2430</td>\n",
       "      <td>0.3613</td>\n",
       "      <td>0.08758</td>\n",
       "      <td>0</td>\n",
       "    </tr>\n",
       "    <tr>\n",
       "      <th>3</th>\n",
       "      <td>11.42</td>\n",
       "      <td>20.38</td>\n",
       "      <td>77.58</td>\n",
       "      <td>386.1</td>\n",
       "      <td>0.14250</td>\n",
       "      <td>0.28390</td>\n",
       "      <td>0.2414</td>\n",
       "      <td>0.10520</td>\n",
       "      <td>0.2597</td>\n",
       "      <td>0.09744</td>\n",
       "      <td>...</td>\n",
       "      <td>26.50</td>\n",
       "      <td>98.87</td>\n",
       "      <td>567.7</td>\n",
       "      <td>0.2098</td>\n",
       "      <td>0.8663</td>\n",
       "      <td>0.6869</td>\n",
       "      <td>0.2575</td>\n",
       "      <td>0.6638</td>\n",
       "      <td>0.17300</td>\n",
       "      <td>0</td>\n",
       "    </tr>\n",
       "    <tr>\n",
       "      <th>4</th>\n",
       "      <td>20.29</td>\n",
       "      <td>14.34</td>\n",
       "      <td>135.10</td>\n",
       "      <td>1297.0</td>\n",
       "      <td>0.10030</td>\n",
       "      <td>0.13280</td>\n",
       "      <td>0.1980</td>\n",
       "      <td>0.10430</td>\n",
       "      <td>0.1809</td>\n",
       "      <td>0.05883</td>\n",
       "      <td>...</td>\n",
       "      <td>16.67</td>\n",
       "      <td>152.20</td>\n",
       "      <td>1575.0</td>\n",
       "      <td>0.1374</td>\n",
       "      <td>0.2050</td>\n",
       "      <td>0.4000</td>\n",
       "      <td>0.1625</td>\n",
       "      <td>0.2364</td>\n",
       "      <td>0.07678</td>\n",
       "      <td>0</td>\n",
       "    </tr>\n",
       "  </tbody>\n",
       "</table>\n",
       "<p>5 rows × 31 columns</p>\n",
       "</div>"
      ],
      "text/plain": [
       "   mean radius  mean texture  mean perimeter  mean area  mean smoothness  \\\n",
       "0        17.99         10.38          122.80     1001.0          0.11840   \n",
       "1        20.57         17.77          132.90     1326.0          0.08474   \n",
       "2        19.69         21.25          130.00     1203.0          0.10960   \n",
       "3        11.42         20.38           77.58      386.1          0.14250   \n",
       "4        20.29         14.34          135.10     1297.0          0.10030   \n",
       "\n",
       "   mean compactness  mean concavity  mean concave points  mean symmetry  \\\n",
       "0           0.27760          0.3001              0.14710         0.2419   \n",
       "1           0.07864          0.0869              0.07017         0.1812   \n",
       "2           0.15990          0.1974              0.12790         0.2069   \n",
       "3           0.28390          0.2414              0.10520         0.2597   \n",
       "4           0.13280          0.1980              0.10430         0.1809   \n",
       "\n",
       "   mean fractal dimension  ...  worst texture  worst perimeter  worst area  \\\n",
       "0                 0.07871  ...          17.33           184.60      2019.0   \n",
       "1                 0.05667  ...          23.41           158.80      1956.0   \n",
       "2                 0.05999  ...          25.53           152.50      1709.0   \n",
       "3                 0.09744  ...          26.50            98.87       567.7   \n",
       "4                 0.05883  ...          16.67           152.20      1575.0   \n",
       "\n",
       "   worst smoothness  worst compactness  worst concavity  worst concave points  \\\n",
       "0            0.1622             0.6656           0.7119                0.2654   \n",
       "1            0.1238             0.1866           0.2416                0.1860   \n",
       "2            0.1444             0.4245           0.4504                0.2430   \n",
       "3            0.2098             0.8663           0.6869                0.2575   \n",
       "4            0.1374             0.2050           0.4000                0.1625   \n",
       "\n",
       "   worst symmetry  worst fractal dimension  target  \n",
       "0          0.4601                  0.11890       0  \n",
       "1          0.2750                  0.08902       0  \n",
       "2          0.3613                  0.08758       0  \n",
       "3          0.6638                  0.17300       0  \n",
       "4          0.2364                  0.07678       0  \n",
       "\n",
       "[5 rows x 31 columns]"
      ]
     },
     "execution_count": 2,
     "metadata": {},
     "output_type": "execute_result"
    }
   ],
   "source": [
    "# Take a look at the dataframe\n",
    "data = cancer[\"frame\"]\n",
    "data.head()"
   ]
  },
  {
   "cell_type": "code",
   "execution_count": 3,
   "id": "442e4bc7-a2fe-4f73-8ff7-6370ea1bcb35",
   "metadata": {},
   "outputs": [
    {
     "name": "stdout",
     "output_type": "stream",
     "text": [
      ".. _breast_cancer_dataset:\n",
      "\n",
      "Breast cancer wisconsin (diagnostic) dataset\n",
      "--------------------------------------------\n",
      "\n",
      "**Data Set Characteristics:**\n",
      "\n",
      "    :Number of Instances: 569\n",
      "\n",
      "    :Number of Attributes: 30 numeric, predictive attributes and the class\n",
      "\n",
      "    :Attribute Information:\n",
      "        - radius (mean of distances from center to points on the perimeter)\n",
      "        - texture (standard deviation of gray-scale values)\n",
      "        - perimeter\n",
      "        - area\n",
      "        - smoothness (local variation in radius lengths)\n",
      "        - compactness (perimeter^2 / area - 1.0)\n",
      "        - concavity (severity of concave portions of the contour)\n",
      "        - concave points (number of concave portions of the contour)\n",
      "        - symmetry\n",
      "        - fractal dimension (\"coastline approximation\" - 1)\n",
      "\n",
      "        The mean, standard error, and \"worst\" or largest (mean of the three\n",
      "        worst/largest values) of these features were computed for each image,\n",
      "        resulting in 30 features.  For instance, field 0 is Mean Radius, field\n",
      "        10 is Radius SE, field 20 is Worst Radius.\n",
      "\n",
      "        - class:\n",
      "                - WDBC-Malignant\n",
      "                - WDBC-Benign\n",
      "\n",
      "    :Summary Statistics:\n",
      "\n",
      "    ===================================== ====== ======\n",
      "                                           Min    Max\n",
      "    ===================================== ====== ======\n",
      "    radius (mean):                        6.981  28.11\n",
      "    texture (mean):                       9.71   39.28\n",
      "    perimeter (mean):                     43.79  188.5\n",
      "    area (mean):                          143.5  2501.0\n",
      "    smoothness (mean):                    0.053  0.163\n",
      "    compactness (mean):                   0.019  0.345\n",
      "    concavity (mean):                     0.0    0.427\n",
      "    concave points (mean):                0.0    0.201\n",
      "    symmetry (mean):                      0.106  0.304\n",
      "    fractal dimension (mean):             0.05   0.097\n",
      "    radius (standard error):              0.112  2.873\n",
      "    texture (standard error):             0.36   4.885\n",
      "    perimeter (standard error):           0.757  21.98\n",
      "    area (standard error):                6.802  542.2\n",
      "    smoothness (standard error):          0.002  0.031\n",
      "    compactness (standard error):         0.002  0.135\n",
      "    concavity (standard error):           0.0    0.396\n",
      "    concave points (standard error):      0.0    0.053\n",
      "    symmetry (standard error):            0.008  0.079\n",
      "    fractal dimension (standard error):   0.001  0.03\n",
      "    radius (worst):                       7.93   36.04\n",
      "    texture (worst):                      12.02  49.54\n",
      "    perimeter (worst):                    50.41  251.2\n",
      "    area (worst):                         185.2  4254.0\n",
      "    smoothness (worst):                   0.071  0.223\n",
      "    compactness (worst):                  0.027  1.058\n",
      "    concavity (worst):                    0.0    1.252\n",
      "    concave points (worst):               0.0    0.291\n",
      "    symmetry (worst):                     0.156  0.664\n",
      "    fractal dimension (worst):            0.055  0.208\n",
      "    ===================================== ====== ======\n",
      "\n",
      "    :Missing Attribute Values: None\n",
      "\n",
      "    :Class Distribution: 212 - Malignant, 357 - Benign\n",
      "\n",
      "    :Creator:  Dr. William H. Wolberg, W. Nick Street, Olvi L. Mangasarian\n",
      "\n",
      "    :Donor: Nick Street\n",
      "\n",
      "    :Date: November, 1995\n",
      "\n",
      "This is a copy of UCI ML Breast Cancer Wisconsin (Diagnostic) datasets.\n",
      "https://goo.gl/U2Uwz2\n",
      "\n",
      "Features are computed from a digitized image of a fine needle\n",
      "aspirate (FNA) of a breast mass.  They describe\n",
      "characteristics of the cell nuclei present in the image.\n",
      "\n",
      "Separating plane described above was obtained using\n",
      "Multisurface Method-Tree (MSM-T) [K. P. Bennett, \"Decision Tree\n",
      "Construction Via Linear Programming.\" Proceedings of the 4th\n",
      "Midwest Artificial Intelligence and Cognitive Science Society,\n",
      "pp. 97-101, 1992], a classification method which uses linear\n",
      "programming to construct a decision tree.  Relevant features\n",
      "were selected using an exhaustive search in the space of 1-4\n",
      "features and 1-3 separating planes.\n",
      "\n",
      "The actual linear program used to obtain the separating plane\n",
      "in the 3-dimensional space is that described in:\n",
      "[K. P. Bennett and O. L. Mangasarian: \"Robust Linear\n",
      "Programming Discrimination of Two Linearly Inseparable Sets\",\n",
      "Optimization Methods and Software 1, 1992, 23-34].\n",
      "\n",
      "This database is also available through the UW CS ftp server:\n",
      "\n",
      "ftp ftp.cs.wisc.edu\n",
      "cd math-prog/cpo-dataset/machine-learn/WDBC/\n",
      "\n",
      ".. topic:: References\n",
      "\n",
      "   - W.N. Street, W.H. Wolberg and O.L. Mangasarian. Nuclear feature extraction \n",
      "     for breast tumor diagnosis. IS&T/SPIE 1993 International Symposium on \n",
      "     Electronic Imaging: Science and Technology, volume 1905, pages 861-870,\n",
      "     San Jose, CA, 1993.\n",
      "   - O.L. Mangasarian, W.N. Street and W.H. Wolberg. Breast cancer diagnosis and \n",
      "     prognosis via linear programming. Operations Research, 43(4), pages 570-577, \n",
      "     July-August 1995.\n",
      "   - W.H. Wolberg, W.N. Street, and O.L. Mangasarian. Machine learning techniques\n",
      "     to diagnose breast cancer from fine-needle aspirates. Cancer Letters 77 (1994) \n",
      "     163-171.\n"
     ]
    }
   ],
   "source": [
    "# Print info about the dataframe\n",
    "print(cancer[\"DESCR\"])"
   ]
  },
  {
   "cell_type": "markdown",
   "id": "0276720a-2ed8-4089-aea8-40758f869e9b",
   "metadata": {},
   "source": [
    "### Selecting Features and Target Variable"
   ]
  },
  {
   "cell_type": "code",
   "execution_count": 4,
   "id": "41b6dc54-c8ca-43e3-b9c2-e39cbe68186f",
   "metadata": {},
   "outputs": [],
   "source": [
    "# We will only use the following 5 features\n",
    "features = [\"mean radius\", \"mean texture\", \"mean perimeter\", \"mean area\", \"mean smoothness\"]"
   ]
  },
  {
   "cell_type": "code",
   "execution_count": 5,
   "id": "a38d8ace-697a-4da2-9dd2-ce0da4a04132",
   "metadata": {},
   "outputs": [],
   "source": [
    "# Separate the data and target variable\n",
    "X = data[features].copy()   # We will try to use all features\n",
    "y = data[\"target\"].copy()"
   ]
  },
  {
   "cell_type": "code",
   "execution_count": 6,
   "id": "370bd855-7d19-4e0a-9732-d722dd23f1a4",
   "metadata": {},
   "outputs": [
    {
     "data": {
      "text/plain": [
       "1    357\n",
       "0    212\n",
       "Name: target, dtype: int64"
      ]
     },
     "execution_count": 6,
     "metadata": {},
     "output_type": "execute_result"
    }
   ],
   "source": [
    "# Check counts of the target classes\n",
    "y.value_counts()"
   ]
  },
  {
   "cell_type": "markdown",
   "id": "9d5422be-8359-4009-b1f2-81a6b55ffe26",
   "metadata": {},
   "source": [
    "### Splitting Training and Test Set"
   ]
  },
  {
   "cell_type": "code",
   "execution_count": 7,
   "id": "a06e457c-f556-4b48-8dd4-8573349a38e2",
   "metadata": {},
   "outputs": [],
   "source": [
    "import numpy as np\n",
    "\n",
    "# Permute the dataframe to kill any possible ordering used\n",
    "np.random.seed(0)      # Fix a random seed to allow reproducibility\n",
    "old_index = data.index\n",
    "new_index = np.random.permutation(old_index)\n",
    "\n",
    "X = X.loc[new_index].reset_index(drop = True)\n",
    "y = y.loc[new_index].reset_index(drop = True)"
   ]
  },
  {
   "cell_type": "code",
   "execution_count": 8,
   "id": "74d75c6b-82f9-4f17-88bd-81d46de09991",
   "metadata": {},
   "outputs": [],
   "source": [
    "# Use 80% of the data for training purposes and the remaining 20% for testing purposes\n",
    "train_test_cut = int(np.floor(len(X)*0.8))"
   ]
  },
  {
   "cell_type": "code",
   "execution_count": 9,
   "id": "410c690d-db8d-4ae7-b1ab-8aefb2895064",
   "metadata": {},
   "outputs": [],
   "source": [
    "# Create the training set\n",
    "X_train = X.iloc[: train_test_cut].copy()\n",
    "y_train = y.iloc[: train_test_cut].copy()"
   ]
  },
  {
   "cell_type": "code",
   "execution_count": 10,
   "id": "d2c3b06c-9816-4778-bbb0-006063cbe80b",
   "metadata": {},
   "outputs": [],
   "source": [
    "# Create the test set\n",
    "X_test = X.iloc[train_test_cut :].copy()\n",
    "y_test = y.iloc[train_test_cut :].copy()"
   ]
  },
  {
   "cell_type": "code",
   "execution_count": 11,
   "id": "507fe7a2-73e0-4e51-8ee6-6d81f32431c1",
   "metadata": {},
   "outputs": [
    {
     "name": "stdout",
     "output_type": "stream",
     "text": [
      "The training set has 455 samples\n",
      "The test set has 114 samples\n"
     ]
    }
   ],
   "source": [
    "print(\"The training set has {} samples\".format(len(X_train)))\n",
    "print(\"The test set has {} samples\".format(len(X_test)))"
   ]
  },
  {
   "cell_type": "code",
   "execution_count": 12,
   "id": "a26046e6-7d31-4d03-9750-4e8ae98fd255",
   "metadata": {},
   "outputs": [
    {
     "data": {
      "text/plain": [
       "1    287\n",
       "0    168\n",
       "Name: target, dtype: int64"
      ]
     },
     "execution_count": 12,
     "metadata": {},
     "output_type": "execute_result"
    },
    {
     "data": {
      "text/plain": [
       "1    70\n",
       "0    44\n",
       "Name: target, dtype: int64"
      ]
     },
     "execution_count": 12,
     "metadata": {},
     "output_type": "execute_result"
    }
   ],
   "source": [
    "# Check the value counts of the target in train and test sets\n",
    "y_train.value_counts()\n",
    "y_test.value_counts()"
   ]
  },
  {
   "cell_type": "markdown",
   "id": "3a0a1127-b5d3-4983-85d4-07e243bcee64",
   "metadata": {},
   "source": [
    "## Implement a Gradient Boosting Regressor from Scratch"
   ]
  },
  {
   "cell_type": "markdown",
   "id": "2f52fe22-87cc-488d-aff3-34327568b9e4",
   "metadata": {},
   "source": [
    "### Pseudo Code of the Training Algorithm"
   ]
  },
  {
   "cell_type": "markdown",
   "id": "f07e82e5-449a-495d-9fab-8e9bc7fa08f5",
   "metadata": {},
   "source": [
    "In the following we denote by $\\bf x$ the collection of training samples and by $\\bf y$ the corresponding target classes."
   ]
  },
  {
   "cell_type": "markdown",
   "id": "5ea16666-2d01-4ab5-add4-9f75c11b4775",
   "metadata": {},
   "source": [
    "0. Create an empty list `fitted_gb_clf` to store the output data.\n",
    "1. Initialize the algorithm with the $\\log(odds)$ value of the variable $\\bf y$. In other words, for any sample $x_i$, set $G_0(x_i) = \\log{(M/N)}$, where $M = |\\{\\text{samples with label 1}\\}|$, $N = |\\{\\text{samples with label 0}\\}|$ and $G_k(x_i)$ is the predicted $\\log(odds)$ value of the sample $x_i$ at step $k$ (at this stage $k=0$).\n",
    "2. Append the value $\\log{(M/N)}$ to the list `fitted_gb_reg`.\n",
    "3. Transform the $\\log(odds)$ values using the logistic function $f(z) = \\dfrac{e^z}{1+e^z}$ to obtain the predicted probabilities $F_k(\\bf x)$. In other words, $F_k(x_i) = \\dfrac{e^{G_k(x_i)}}{1+e^{G_k(x_i)}}$ is the  probability that sample $x_i$ belongs to class 1.\n",
    "4. Calculate the residuals $\\bf r$, i.e., the difference between the true values and the predicted probability values. In other words, for any $i$, we set $r_i = y_i - F_k(x_i)$.\n",
    "5. Train a decision tree $T_k$ on the samples $\\bf x$ with target variable the residuals $\\bf r$.\n",
    "6. Calculate the leaves' output values using the following formula\n",
    "$$\n",
    "\\dfrac{\\sum \\text{Residual}_i}{\\sum \\text{Previous Probability}_i\\times (\\text{1 - Previous Probability}_i)}\n",
    "$$\n",
    "where the sums are taken over all the samples in the leaf.\n",
    "7. Append the fitted tree $T_k$ to the list `fitted_gb_clf`.\n",
    "8. Feed the samples $\\bf x$ to $T_k$ and let $T_k(\\bf x)$ be the outputted values.\n",
    "The new predicted $\\log(odds)$ values are $G_{k+1}(\\textbf {x}) =  G_{k}(\\textbf {x}) + \\alpha T_k(\\textbf {x})$, where $\\alpha$ is the *learning rate* (an hyperparameter fixed at the beginning). \n",
    "9. Increase $k$ by 1.\n",
    "10. If $k > \\text{n_estimators}$ (where $\\text{n_estimators}$ is a integer hyperparameter fixed at the beginning), return `fitted_gb_clf`; else go back to step 3."
   ]
  },
  {
   "cell_type": "markdown",
   "id": "2b0994fe-3fd4-4a6a-937f-6e62c78552b4",
   "metadata": {},
   "source": [
    "The list `fitted_gb_clf` returned by this algorithm represents a fitted instance of the Gradient Boosting Regressor."
   ]
  },
  {
   "cell_type": "markdown",
   "id": "4ae10f13-2e4c-4b88-b71b-f3e374902cdf",
   "metadata": {},
   "source": [
    "### Coding the Logistic Function"
   ]
  },
  {
   "cell_type": "code",
   "execution_count": 13,
   "id": "a83e623b-0e9a-418a-b9ce-56e01bed80cf",
   "metadata": {},
   "outputs": [],
   "source": [
    "def logistic(x):\n",
    "    \"\"\"\n",
    "    Apply the logistic funtion to the input.\n",
    "    \n",
    "    :params x: the number to which to apply the function\n",
    "    :type x: float\n",
    "    \n",
    "    :return: the value of the logistic function applied to the input\n",
    "    \"\"\"\n",
    "    return (np.exp(x)) / (1 + np.exp(x))"
   ]
  },
  {
   "cell_type": "markdown",
   "id": "1e97a782-0e5d-4735-b9b9-304ea845bbc4",
   "metadata": {},
   "source": [
    "### Coding Step 6"
   ]
  },
  {
   "cell_type": "code",
   "execution_count": 14,
   "id": "18123295-ca2d-44b3-b422-5879c2d72d0f",
   "metadata": {},
   "outputs": [],
   "source": [
    "def one_leaf_output(residuals, probabilities):\n",
    "    \"\"\"\n",
    "    Compute the output of a leaf of a decision tree used by the Gradient Boosting Classifier.\n",
    "    The explicit formula for this value is given in the pseudo code.\n",
    "    \n",
    "    :param residuals: the residuals of the samples in the leaf\n",
    "    :type residuals: pandas.Series of shape (n_samples,)\n",
    "    :param probabilities: the predicted probabilities of the samples in the leaf\n",
    "    :type probabilities: pandas.Series of shape (n_samples,)\n",
    "    \n",
    "    :return: the output value of the leaf\n",
    "    \"\"\"\n",
    "    num = residuals.sum()\n",
    "    den = ((10**(-6) + probabilities).multiply(1 - probabilities + 10**(-6))).sum() # We add a smoothing parameter to avoid\n",
    "                                                                                    # getting division by zero\n",
    "\n",
    "    return num / den"
   ]
  },
  {
   "cell_type": "code",
   "execution_count": 15,
   "id": "ec96e235-83d9-43d6-a800-1c405cb33590",
   "metadata": {},
   "outputs": [],
   "source": [
    "import collections\n",
    "\n",
    "def all_leaves_outputs(X, tree, residuals, probabilities):\n",
    "    \"\"\"\n",
    "    Compute the output of all leaves of a decision tree used by the Gradient Boosting Classifier.\n",
    "    \n",
    "    :param X: the data on which the tree was fitted\n",
    "    :type X: pandas.DataFrame of shape (n_sample, n_features)\n",
    "    :param tree: the decision tree we want to use. It must have been already fitted to the data X\n",
    "    :type tree: sklearn.tree.DecisionTreeRegressor()\n",
    "    :param residuals: the residuals of the data X. We need them to calculate the values of the unpure leaves\n",
    "    :type residuals: pandas.Series of shape (n_samples,)\n",
    "    :param probabilities: the predicted probabilities of the data X. We need them to calculate the values of the unpure leaves\n",
    "    :type probabilities: pandas.Series of shape (n_samples,)\n",
    "    \n",
    "    :return: a dictionary with keys the indexes of each leaf in the decision tree and values the corresponding output value\n",
    "    \"\"\"\n",
    "    \n",
    "    # Get the structure of the tree showing in what nodes each sample goes\n",
    "    dec_paths = tree.decision_path(X)\n",
    "\n",
    "    # Create dictionary with keys the nodes indexes and values the indexes of the samples which passed from that node\n",
    "    nodes_samples_dict = collections.defaultdict(list)\n",
    "\n",
    "    for d, dec in enumerate(dec_paths):\n",
    "        for i in range(tree.tree_.node_count):\n",
    "            if dec.toarray()[0][i] == 1:\n",
    "                nodes_samples_dict[i].append(d)  \n",
    "    \n",
    "    # Get the indexes of the leaves\n",
    "    leaves = list(np.unique(tree.apply(X)))            \n",
    "                \n",
    "    # Create a dictionary where the keys are the leaves' indexes and the values are calculated by applying the  \n",
    "    # appropriate function to the samples in the leaf\n",
    "\n",
    "    leaves_values = dict()\n",
    "\n",
    "    for leaf in leaves:\n",
    "        samples_in_leaf = nodes_samples_dict[leaf]\n",
    "        leaves_values[leaf] = one_leaf_output(residuals.iloc[samples_in_leaf], probabilities.iloc[samples_in_leaf])\n",
    "        \n",
    "    return leaves_values    "
   ]
  },
  {
   "cell_type": "markdown",
   "id": "0f7bf706-b647-47ef-99d4-06eeeca1d7a3",
   "metadata": {},
   "source": [
    "### Coding the Rest of the Training Algorithm"
   ]
  },
  {
   "cell_type": "markdown",
   "id": "209bb444-09d1-4e67-9dbb-d7a7605e3435",
   "metadata": {},
   "source": [
    "0. Create an empty list `fitted_gb_clf` to store the output data.\n",
    "1. Initialize the algorithm with the $\\log(odds)$ value of the variable $\\bf y$. In other words, for any sample $x_i$, set $G_0(x_i) = \\log{(M/N)}$, where $M = |\\{\\text{samples with label 1}\\}|$, $N = |\\{\\text{samples with label 0}\\}|$ and $G_k(x_i)$ is the predicted $\\log(odds)$ value of the sample $x_i$ at step $k$ (at this stage $k=0$).\n",
    "2. Append the value $\\log{(M/N)}$ to the list `fitted_gb_reg`.\n",
    "3. Transform the $\\log(odds)$ values using the logistic function $f(z) = \\dfrac{e^z}{1+e^z}$ to obtain the predicted probabilities $F_k(\\bf x)$. In other words, $F_k(x_i) = \\dfrac{e^{G_k(x_i)}}{1+e^{G_k(x_i)}}$ is the  probability that sample $x_i$ belongs to class 1.\n",
    "4. Calculate the residuals $\\bf r$, i.e., the difference between the true values and the predicted probability values. In other words, for any $i$, we set $r_i = y_i - F_k(x_i)$.\n",
    "5. Train a decision tree $T_k$ on the samples $\\bf x$ with target variable the residuals $\\bf r$.\n",
    "6. Calculate the leaves' output values using the following formula\n",
    "$$\n",
    "\\dfrac{\\sum \\text{Residual}_i}{\\sum \\text{Previous Probability}_i\\times (\\text{1 - Previous Probability}_i)}\n",
    "$$\n",
    "where the sums are taken over all the samples in the leaf.\n",
    "7. Append the fitted tree $T_k$ to the list `fitted_gb_clf`.\n",
    "8. Feed the samples $\\bf x$ to $T_k$ and let $T_k(\\bf x)$ be the outputted values.\n",
    "The new predicted $\\log(odds)$ values are $G_{k+1}(\\textbf {x}) =  G_{k}(\\textbf {x}) + \\alpha T_k(\\textbf {x})$, where $\\alpha$ is the `learning rate` (an hyperparameter fixed at the beginning). \n",
    "9. Increase $k$ by 1.\n",
    "10. If $k >$ `n_estimators` (where `n_estimators` is a integer hyperparameter fixed at the beginning), return `fitted_gb_clf`; else go back to step 3."
   ]
  },
  {
   "cell_type": "code",
   "execution_count": 16,
   "id": "fb21286c-0ee2-4df8-8074-e223fa3ea820",
   "metadata": {},
   "outputs": [],
   "source": [
    "from sklearn.tree import DecisionTreeRegressor\n",
    "\n",
    "def grad_boost_fit(X, y, n_estimators = 100, learning_rate = 0.1): # We set the same hyperparameter default values used by\n",
    "                                                                   # sklearn's instance of Gradient Boosting Classifier\n",
    "    \"\"\"\n",
    "    Fit my Gradient Boosting Classifier.\n",
    "    \n",
    "    :param X: the samples we use to train the model\n",
    "    :type X: pandas.DataFrame of shape (n_samples, n_features)\n",
    "    :param y: the target values we are trying to predict\n",
    "    :type y: pandas.Series of shape (n_samples,)\n",
    "    :param n_estimators: the number of boosting stages to perform\n",
    "    :type n_estimators: int, default = 100\n",
    "    :param learning_rate: the learning rate to use in the algorithm. It must be in range (0, infty)\n",
    "    :type learning_rate: float, default = 0.1\n",
    "    \n",
    "    :return: gb_clf, a dictionary with the following attributes\n",
    "    \n",
    "                 fitted_gb_clf: a list containing the data which implements my Gradient Boosting Classifier.\n",
    "                                This data consists of pairs (tree, dict), where tree is the decision tree\n",
    "                                created at each boosting step and dict is a dictionary containing\n",
    "                                the leaves' output values.\n",
    "             \n",
    "                 n_estimators: the max number of boosting stages performed\n",
    "                 \n",
    "                 learning_rate: the learning rate used in the algorithm\n",
    "    \n",
    "    \"\"\"\n",
    "    \n",
    "    # STEP 0: initialize a list which will represent a fitted instance of the Gradient Boosting Classifier\n",
    "    fitted_gb_clf = []\n",
    "    \n",
    "    # STEP 1: initialize the algorithm with the log(odds) of the target variable\n",
    "    odds = len(y[y == 1]) / len(y[y == 0])\n",
    "    log_odds_predictions = pd.Series([np.log(odds)] * len(y), index = y.index) # Using a series with same index of input data\n",
    "                                                                               # will make things more smooth later\n",
    "\n",
    "    # STEP 2: add this initial value to the list representing the fitted Gradient Boosting Classifier\n",
    "    fitted_gb_clf.append(np.log(odds))\n",
    "            \n",
    "    # Initialize a count of the number of boosting stages performed\n",
    "    n_estimators_trained = 0\n",
    "    \n",
    "    # test STEP 10 condition: keep boosting until we reach the max number of stages\n",
    "    while n_estimators_trained < n_estimators:\n",
    "        \n",
    "        # STEP 3: transform the log(odds) into probabilites\n",
    "        prob_predictions = log_odds_predictions.apply(logistic)\n",
    "        \n",
    "        # Add these probabilites to the DataFrame\n",
    "        #X.loc[:, \"predicted_probs\"] = prob_predictions.values\n",
    "        \n",
    "        # STEP 4: calculate the residuals\n",
    "        residuals = y - prob_predictions.values\n",
    "        \n",
    "        # Add these residuals to the DataFrame\n",
    "        #X.loc[:, \"residuals\"] = residuals.values\n",
    "        \n",
    "        # STEP 5: instantiate and fit a decision tree which predicts the residuals\n",
    "        tree = DecisionTreeRegressor(max_depth = 3, random_state = 1)\n",
    "        tree.fit(X, residuals)\n",
    "        \n",
    "        # STEP 6: calculate the output value of each leaf in the tree\n",
    "        leaves_values = all_leaves_outputs(X, tree, residuals, prob_predictions)\n",
    "        \n",
    "        # STEP 7: add the fitted tree (given as a dictionary containing the value of each leaf)\n",
    "        # to the list representing the fitted Gradient Boosting Classifier\n",
    "        fitted_gb_clf.append([tree, leaves_values])\n",
    "        \n",
    "        # STEP 8: eed the samples to the tree and use the outputs to update the log(odds) predictions\n",
    "        tree_outcomes = pd.Series(tree.apply(X)) # Get the leaf index each sample ends up in\n",
    "        predicted_residuals = tree_outcomes.map(leaves_values) # Calculate the output of each sample\n",
    "        log_odds_predictions += (learning_rate * predicted_residuals).values # Update the log(odds) predictions \n",
    "        \n",
    "        # STEP 9: increase the number of boosting stages performed\n",
    "        n_estimators_trained += 1\n",
    "        \n",
    "    \n",
    "    # exit STEP 10 condition: the list we created represents a fitted instance of the Gradient Boosted Classifier\n",
    "    gb_clf = {\"model\" : fitted_gb_clf,       # We return a dictionary containing the model and the hyperparameters we used\n",
    "              \"n_estimators\" : n_estimators,\n",
    "              \"learning_rate\" : learning_rate}\n",
    "                                      \n",
    "    return gb_clf                                 "
   ]
  },
  {
   "cell_type": "markdown",
   "id": "3eb325bc-79e1-4655-9d61-0b7abbf90f45",
   "metadata": {},
   "source": [
    "### Pseudo Code for Making Predictions"
   ]
  },
  {
   "cell_type": "markdown",
   "id": "2dc17e75-2994-4fcf-aba5-851d069fa495",
   "metadata": {},
   "source": [
    "In the following `fitted_gb_clf` is the list representing the fitted Gradient Boosting Classifier we constructed above. Moreover,  we denote by $\\hat {\\bf x}$ the collection of new samples we are trying to classify and with $\\hat {\\bf G}, \\hat {\\bf F}, \\hat {\\bf y}$ the corresponding $\\log(\\text{odds})$, probabilities and target classes predicted by the model, respectively."
   ]
  },
  {
   "cell_type": "markdown",
   "id": "28dd5af7-a79b-462f-8f9a-141134ca88b4",
   "metadata": {},
   "source": [
    "1. Set the initial $\\log(\\text{odds})$ predictions to be the value we used to initialize the training algorithm. In other words, set $\\hat {\\bf G} = $ `fitted_gb_clf[0]`.\n",
    "2. Loop through the decision trees $T_k$ in `fitted_gb_clf` and:\n",
    "    1. Feed the samples $\\hat {\\bf x}$ to $T_k$ and get the outputted values $T_k(\\hat {\\bf x})$.\n",
    "    2. Set the new $\\log(\\text{odds})$ predicted values to be $\\hat {\\bf G} = \\hat {\\bf G} + \\alpha T_k(\\hat            {\\bf x})$, where $\\alpha$ is the `learning rate` that was established at the beginning of the training            algorithm. \n",
    "3. Calculate the predicted probabilities by applying logistic function to the log(odds) predictions. In other words, set $\\hat {\\bf F} = f(\\hat {\\bf G})$.  \n",
    "4. Convert the probabilites into classes labels using an appropriate cutoff value `prob_cutoff` (an hyperparameter in the range [0, 1]). In other words, we set\n",
    "$$\n",
    "\\hat {\\bf y} =   \\left\\{\n",
    "\\begin{array}{ll}\n",
    "      0, & \\text{if}\\,\\,\\, \\hat {\\bf F}\\leq \\text{prob_cutoff} \\\\\n",
    "      1, & \\text{if}\\,\\,\\, \\hat {\\bf F} >  \\text{prob_cutoff}.\n",
    "\\end{array} \n",
    "\\right.\n",
    "$$"
   ]
  },
  {
   "cell_type": "markdown",
   "id": "193dfb93-f15a-4966-b1c3-2742a73c3714",
   "metadata": {},
   "source": [
    "### Coding the Making Predictions"
   ]
  },
  {
   "cell_type": "code",
   "execution_count": 17,
   "id": "3cf053fb-5cc0-4f86-bf34-446007a85109",
   "metadata": {},
   "outputs": [],
   "source": [
    "def grad_boost_predict(X, gb_clf, prob_cutoff = 0.5):\n",
    "    \"\"\"\n",
    "    Use a fitted instance of my Gradient Boosting Classifier to make predictions.\n",
    "    \n",
    "    :param X: the samples we want to predict\n",
    "    :type X: pandas.DataFrame of shape (n_samples, n_features)\n",
    "    :param gb_clf: a fitted instance of my Gradient Boosting Classifier\n",
    "    :type gb_clf: list\n",
    "    :param learning_rate: the learning rate to use in the algorithm. It must be in range (0, +infty)\n",
    "    :type learning_rate: float, default = 0.1\n",
    "    :param prob_cutoff: the cutoff to use when transforming probabilities into labels. It must be in range (0, 1)\n",
    "    :type prob_cutoff: float, default = 0.5\n",
    "    \n",
    "    :return: output, a dictionary with the following keys\n",
    "    \n",
    "                 \"predictions\", the predicted classes\n",
    "                 \n",
    "                 \"n_estimators\", the number of boosting stages performed during the training phase\n",
    "                 \n",
    "                 \"learning_rate\", the learning rate used in the algorithm\n",
    "                 \n",
    "                 \"prob_cutoff\", the probability cutoff value used to determine the predicted classes\n",
    "                 \n",
    "\n",
    "    \"\"\"\n",
    "    \n",
    "    # Extract the model and hyperparameters from the input data\n",
    "    fitted_gb_clf = gb_clf[\"model\"]\n",
    "    learning_rate = gb_clf[\"learning_rate\"]\n",
    "    n_estimators = gb_clf[\"n_estimators\"]\n",
    "    \n",
    "    # STEP 1: set the initial log(odds) predictions to be the value we used to initialize the training algorithm\n",
    "    log_odds_predictions = pd.Series([fitted_gb_clf[0]] * len(X))\n",
    "    \n",
    "    # Loop through all the boosting stages\n",
    "    for i in range(1, len(fitted_gb_clf)):\n",
    "        \n",
    "        # STEP 2A: feed the samples to the tree trained at the current stage and get the output values\n",
    "        current_tree = fitted_gb_clf[i][0] # Get the tree for the current boosting stage\n",
    "        current_nodes_values = fitted_gb_clf[i][1] # Get the output values of its nodes\n",
    "        tree_outcomes = pd.Series(current_tree.apply(X)) # Get the leaf index each sample ends up in\n",
    "        predicted_residuals = tree_outcomes.map(current_nodes_values) # Calculate the output of each sample\n",
    "        \n",
    "        # STEP 2B: update the model's log(odds) predictions \n",
    "        log_odds_predictions += (learning_rate * predicted_residuals).values\n",
    "        \n",
    "    # STEP 3: turn the log(odds) predictions into probabilities using the logistic function\n",
    "    prob_predictions = log_odds_predictions.apply(logistic)\n",
    "    \n",
    "    # STEP 4: predict the classes using the probabilites we computed and the given cutoff value\n",
    "    labels_predictions = prob_predictions.apply(lambda x : 1 if x > prob_cutoff else 0)\n",
    "    \n",
    "    # Equate the indexes of predicted and true classes to ease comparison\n",
    "    labels_predictions.index = X.index\n",
    "    \n",
    "    # Return a dataframe with the the predicted labels and the hyperparameters values\n",
    "    output = {\"predictions\" : labels_predictions,\n",
    "              \"n_estimators\" : n_estimators,\n",
    "              \"learning_rate\" : learning_rate,\n",
    "              \"prob_cutoff\" : prob_cutoff\n",
    "               }\n",
    "    \n",
    "    return output    "
   ]
  },
  {
   "cell_type": "markdown",
   "id": "dea1f1c0-e2f6-4300-8477-7420cb5d63ac",
   "metadata": {},
   "source": [
    "## Evaluating my Gradient Boosting Classifier"
   ]
  },
  {
   "cell_type": "code",
   "execution_count": 18,
   "id": "b2472996-610d-4883-bb1c-a5cb803ca16f",
   "metadata": {
    "tags": []
   },
   "outputs": [],
   "source": [
    "# Initialize a dictionary to evaluate the performance of my Gradient Boosting Classifier on the test data\n",
    "my_test_accuracy_scores = dict()\n",
    "# Initialize the samples we want to predict (in this case, the test data)\n",
    "X_hat = X_test\n",
    "\n",
    "# Fit an instance of my Gradient Boosting Classifier and use it to predict the testing data at different learning rates\n",
    "# Evaluate the model using accuracy_score and collect all these values into a dictionary\n",
    "for alpha in [x/10 for x in range(1, 11)]:  # We use learning the rates 0.1, 0.2, 0.3, ..., 1\n",
    "    fitted_gb_clf = grad_boost_fit(X_train, y_train, learning_rate = alpha)\n",
    "    my_test_predictions = grad_boost_predict(X_hat, fitted_gb_clf)[\"predictions\"]\n",
    "    my_test_accuracy_scores[alpha] = (y_test == my_test_predictions).sum() / len(y_test)"
   ]
  },
  {
   "cell_type": "code",
   "execution_count": 19,
   "id": "24ea4df9-bbde-4441-b5cf-ab5e36b9d965",
   "metadata": {},
   "outputs": [
    {
     "data": {
      "image/png": "[encoded data removed]",
      "text/plain": [
       "<Figure size 432x288 with 1 Axes>"
      ]
     },
     "metadata": {
      "needs_background": "light"
     },
     "output_type": "display_data"
    }
   ],
   "source": [
    "import matplotlib.pyplot as plt\n",
    "import seaborn as sns\n",
    "\n",
    "# Plot the scores we obtain\n",
    "sns.barplot(x = list(my_test_accuracy_scores.keys()), y = list(my_test_accuracy_scores.values()))\n",
    "plt.xlabel(\"Learning Rate\");\n",
    "plt.ylabel(\"accuracy_score\");\n",
    "plt.title(\"Performance of my Gradient Boosting Classifier\\n on the Test Set at Different Learning Rates\", weight = \"bold\");"
   ]
  },
  {
   "cell_type": "markdown",
   "id": "0ba471d0-7950-4639-a9e2-fbcf357d4041",
   "metadata": {},
   "source": [
    "## Comparing my Model to sklearn's Implementation of Gradient Boosting Classifier"
   ]
  },
  {
   "cell_type": "code",
   "execution_count": 20,
   "id": "463c3309-4892-4e20-9c5a-ffff740f5591",
   "metadata": {},
   "outputs": [
    {
     "data": {
      "text/plain": [
       "GradientBoostingClassifier(random_state=1)"
      ]
     },
     "execution_count": 20,
     "metadata": {},
     "output_type": "execute_result"
    },
    {
     "data": {
      "text/plain": [
       "GradientBoostingClassifier(learning_rate=0.2, random_state=1)"
      ]
     },
     "execution_count": 20,
     "metadata": {},
     "output_type": "execute_result"
    },
    {
     "data": {
      "text/plain": [
       "GradientBoostingClassifier(learning_rate=0.3, random_state=1)"
      ]
     },
     "execution_count": 20,
     "metadata": {},
     "output_type": "execute_result"
    },
    {
     "data": {
      "text/plain": [
       "GradientBoostingClassifier(learning_rate=0.4, random_state=1)"
      ]
     },
     "execution_count": 20,
     "metadata": {},
     "output_type": "execute_result"
    },
    {
     "data": {
      "text/plain": [
       "GradientBoostingClassifier(learning_rate=0.5, random_state=1)"
      ]
     },
     "execution_count": 20,
     "metadata": {},
     "output_type": "execute_result"
    },
    {
     "data": {
      "text/plain": [
       "GradientBoostingClassifier(learning_rate=0.6, random_state=1)"
      ]
     },
     "execution_count": 20,
     "metadata": {},
     "output_type": "execute_result"
    },
    {
     "data": {
      "text/plain": [
       "GradientBoostingClassifier(learning_rate=0.7, random_state=1)"
      ]
     },
     "execution_count": 20,
     "metadata": {},
     "output_type": "execute_result"
    },
    {
     "data": {
      "text/plain": [
       "GradientBoostingClassifier(learning_rate=0.8, random_state=1)"
      ]
     },
     "execution_count": 20,
     "metadata": {},
     "output_type": "execute_result"
    },
    {
     "data": {
      "text/plain": [
       "GradientBoostingClassifier(learning_rate=0.9, random_state=1)"
      ]
     },
     "execution_count": 20,
     "metadata": {},
     "output_type": "execute_result"
    },
    {
     "data": {
      "text/plain": [
       "GradientBoostingClassifier(learning_rate=1.0, random_state=1)"
      ]
     },
     "execution_count": 20,
     "metadata": {},
     "output_type": "execute_result"
    }
   ],
   "source": [
    "from sklearn.ensemble import GradientBoostingClassifier\n",
    "\n",
    "# Now do the same thing for both the test and training data using the sklearn's Gradient Boosting Classifier\n",
    "\n",
    "sklearn_test_accuracy_scores = dict()\n",
    "\n",
    "for alpha in [x / 10 for x in range(1, 11)]:\n",
    "    gb_clf = GradientBoostingClassifier(learning_rate = alpha, random_state = 1)\n",
    "    gb_clf.fit(X_train, y_train)\n",
    "    \n",
    "    sklearn_test_predictions = gb_clf.predict(X_hat) \n",
    "    sklearn_test_accuracy_scores[alpha] = (y_test == sklearn_test_predictions).sum() / len(y_test)\n",
    "    #sklearn_test_accuracy_scores[alpha] = accuracy_score(y_test, sklearn_test_predictions)"
   ]
  },
  {
   "cell_type": "code",
   "execution_count": 21,
   "id": "507f7e35-6a56-4f38-b376-f236c3aa5486",
   "metadata": {},
   "outputs": [
    {
     "data": {
      "image/png": "[encoded data removed]",
      "text/plain": [
       "<Figure size 864x432 with 2 Axes>"
      ]
     },
     "metadata": {
      "needs_background": "light"
     },
     "output_type": "display_data"
    }
   ],
   "source": [
    "# Compare my Gradient Boosting Classifier with the one from sklearn by plotting side by side the scores each of them yields  \n",
    "# on the test data\n",
    "\n",
    "fig, axs = plt.subplots(1,2, figsize = (12, 6))\n",
    "\n",
    "_ = sns.barplot(x = list(my_test_accuracy_scores.keys()), y = list(my_test_accuracy_scores.values()), ax = axs[0]);\n",
    "_ = sns.barplot(x = list(sklearn_test_accuracy_scores.keys()), y = list(sklearn_test_accuracy_scores.values()), ax = axs[1]);\n",
    "\n",
    "_ = axs[0].set_ylabel(\"accuracy_score\")\n",
    "\n",
    "for ax in axs:\n",
    "    _ = ax.set_xlabel(\"Learning Rate\")\n",
    "\n",
    "_ = axs[0].set_title(\"My Gradient Boosting\")    \n",
    "_ = axs[1].set_title(\"sklearn's Gradient Boosting\")    \n",
    "\n",
    "_ = fig.suptitle(\"Performance of Mine vs. sklearn's Gradient Boosting Classifier on the Test Set\", weight = \"bold\")"
   ]
  }
 ],
 "metadata": {
  "kernelspec": {
   "display_name": "Python 3 (ipykernel)",
   "language": "python",
   "name": "python3"
  },
  "language_info": {
   "codemirror_mode": {
    "name": "ipython",
    "version": 3
   },
   "file_extension": ".py",
   "mimetype": "text/x-python",
   "name": "python",
   "nbconvert_exporter": "python",
   "pygments_lexer": "ipython3",
   "version": "3.9.7"
  }
 },
 "nbformat": 4,
 "nbformat_minor": 5
}
