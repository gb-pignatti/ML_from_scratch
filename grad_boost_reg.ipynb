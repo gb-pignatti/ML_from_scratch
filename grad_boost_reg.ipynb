{
 "cells": [
  {
   "cell_type": "markdown",
   "id": "9bc8c69e-97a5-4efb-ada9-aee77d12f707",
   "metadata": {},
   "source": [
    "# Gradient Boosting Regression from Scratch"
   ]
  },
  {
   "cell_type": "markdown",
   "id": "63766e43-de58-4c98-a683-4130f5663461",
   "metadata": {},
   "source": [
    "## Prepare the Data"
   ]
  },
  {
   "cell_type": "markdown",
   "id": "8051ca41-9bef-4aed-85d2-2a02e29ba077",
   "metadata": {},
   "source": [
    "### Loading the Data"
   ]
  },
  {
   "cell_type": "code",
   "execution_count": 1,
   "id": "0d908b2d-a1cb-41a9-82ee-602e6d020049",
   "metadata": {},
   "outputs": [],
   "source": [
    "from sklearn import datasets\n",
    "import pandas as pd\n",
    "from IPython.core.interactiveshell import InteractiveShell\n",
    "InteractiveShell.ast_node_interactivity = \"all\"\n",
    "\n",
    "# Load the california_housing toy dataset\n",
    "ca_housing = datasets.fetch_california_housing(as_frame = True)"
   ]
  },
  {
   "cell_type": "code",
   "execution_count": 2,
   "id": "04801ecc-8e92-4408-8647-e3bea7f0f85e",
   "metadata": {},
   "outputs": [
    {
     "data": {
      "text/html": [
       "<div>\n",
       "<style scoped>\n",
       "    .dataframe tbody tr th:only-of-type {\n",
       "        vertical-align: middle;\n",
       "    }\n",
       "\n",
       "    .dataframe tbody tr th {\n",
       "        vertical-align: top;\n",
       "    }\n",
       "\n",
       "    .dataframe thead th {\n",
       "        text-align: right;\n",
       "    }\n",
       "</style>\n",
       "<table border=\"1\" class=\"dataframe\">\n",
       "  <thead>\n",
       "    <tr style=\"text-align: right;\">\n",
       "      <th></th>\n",
       "      <th>MedInc</th>\n",
       "      <th>HouseAge</th>\n",
       "      <th>AveRooms</th>\n",
       "      <th>AveBedrms</th>\n",
       "      <th>Population</th>\n",
       "      <th>AveOccup</th>\n",
       "      <th>Latitude</th>\n",
       "      <th>Longitude</th>\n",
       "      <th>MedHouseVal</th>\n",
       "    </tr>\n",
       "  </thead>\n",
       "  <tbody>\n",
       "    <tr>\n",
       "      <th>0</th>\n",
       "      <td>8.3252</td>\n",
       "      <td>41.0</td>\n",
       "      <td>6.984127</td>\n",
       "      <td>1.023810</td>\n",
       "      <td>322.0</td>\n",
       "      <td>2.555556</td>\n",
       "      <td>37.88</td>\n",
       "      <td>-122.23</td>\n",
       "      <td>4.526</td>\n",
       "    </tr>\n",
       "    <tr>\n",
       "      <th>1</th>\n",
       "      <td>8.3014</td>\n",
       "      <td>21.0</td>\n",
       "      <td>6.238137</td>\n",
       "      <td>0.971880</td>\n",
       "      <td>2401.0</td>\n",
       "      <td>2.109842</td>\n",
       "      <td>37.86</td>\n",
       "      <td>-122.22</td>\n",
       "      <td>3.585</td>\n",
       "    </tr>\n",
       "    <tr>\n",
       "      <th>2</th>\n",
       "      <td>7.2574</td>\n",
       "      <td>52.0</td>\n",
       "      <td>8.288136</td>\n",
       "      <td>1.073446</td>\n",
       "      <td>496.0</td>\n",
       "      <td>2.802260</td>\n",
       "      <td>37.85</td>\n",
       "      <td>-122.24</td>\n",
       "      <td>3.521</td>\n",
       "    </tr>\n",
       "    <tr>\n",
       "      <th>3</th>\n",
       "      <td>5.6431</td>\n",
       "      <td>52.0</td>\n",
       "      <td>5.817352</td>\n",
       "      <td>1.073059</td>\n",
       "      <td>558.0</td>\n",
       "      <td>2.547945</td>\n",
       "      <td>37.85</td>\n",
       "      <td>-122.25</td>\n",
       "      <td>3.413</td>\n",
       "    </tr>\n",
       "    <tr>\n",
       "      <th>4</th>\n",
       "      <td>3.8462</td>\n",
       "      <td>52.0</td>\n",
       "      <td>6.281853</td>\n",
       "      <td>1.081081</td>\n",
       "      <td>565.0</td>\n",
       "      <td>2.181467</td>\n",
       "      <td>37.85</td>\n",
       "      <td>-122.25</td>\n",
       "      <td>3.422</td>\n",
       "    </tr>\n",
       "  </tbody>\n",
       "</table>\n",
       "</div>"
      ],
      "text/plain": [
       "   MedInc  HouseAge  AveRooms  AveBedrms  Population  AveOccup  Latitude  \\\n",
       "0  8.3252      41.0  6.984127   1.023810       322.0  2.555556     37.88   \n",
       "1  8.3014      21.0  6.238137   0.971880      2401.0  2.109842     37.86   \n",
       "2  7.2574      52.0  8.288136   1.073446       496.0  2.802260     37.85   \n",
       "3  5.6431      52.0  5.817352   1.073059       558.0  2.547945     37.85   \n",
       "4  3.8462      52.0  6.281853   1.081081       565.0  2.181467     37.85   \n",
       "\n",
       "   Longitude  MedHouseVal  \n",
       "0    -122.23        4.526  \n",
       "1    -122.22        3.585  \n",
       "2    -122.24        3.521  \n",
       "3    -122.25        3.413  \n",
       "4    -122.25        3.422  "
      ]
     },
     "execution_count": 2,
     "metadata": {},
     "output_type": "execute_result"
    }
   ],
   "source": [
    "# Take a look at the dataframe\n",
    "data = ca_housing[\"frame\"]\n",
    "data.head()"
   ]
  },
  {
   "cell_type": "code",
   "execution_count": 3,
   "id": "56b4b0a0-5d2d-4cbd-8490-c57436f183df",
   "metadata": {},
   "outputs": [
    {
     "name": "stdout",
     "output_type": "stream",
     "text": [
      ".. _california_housing_dataset:\n",
      "\n",
      "California Housing dataset\n",
      "--------------------------\n",
      "\n",
      "**Data Set Characteristics:**\n",
      "\n",
      "    :Number of Instances: 20640\n",
      "\n",
      "    :Number of Attributes: 8 numeric, predictive attributes and the target\n",
      "\n",
      "    :Attribute Information:\n",
      "        - MedInc        median income in block\n",
      "        - HouseAge      median house age in block\n",
      "        - AveRooms      average number of rooms\n",
      "        - AveBedrms     average number of bedrooms\n",
      "        - Population    block population\n",
      "        - AveOccup      average house occupancy\n",
      "        - Latitude      house block latitude\n",
      "        - Longitude     house block longitude\n",
      "\n",
      "    :Missing Attribute Values: None\n",
      "\n",
      "This dataset was obtained from the StatLib repository.\n",
      "http://lib.stat.cmu.edu/datasets/\n",
      "\n",
      "The target variable is the median house value for California districts.\n",
      "\n",
      "This dataset was derived from the 1990 U.S. census, using one row per census\n",
      "block group. A block group is the smallest geographical unit for which the U.S.\n",
      "Census Bureau publishes sample data (a block group typically has a population\n",
      "of 600 to 3,000 people).\n",
      "\n",
      "It can be downloaded/loaded using the\n",
      ":func:`sklearn.datasets.fetch_california_housing` function.\n",
      "\n",
      ".. topic:: References\n",
      "\n",
      "    - Pace, R. Kelley and Ronald Barry, Sparse Spatial Autoregressions,\n",
      "      Statistics and Probability Letters, 33 (1997) 291-297\n",
      "\n"
     ]
    }
   ],
   "source": [
    "# Print info about the dataframe\n",
    "print(ca_housing[\"DESCR\"])"
   ]
  },
  {
   "cell_type": "markdown",
   "id": "8c4dcded-5be1-4e72-b57e-88bfc395e394",
   "metadata": {},
   "source": [
    "### Selecting Features and Target Variable"
   ]
  },
  {
   "cell_type": "code",
   "execution_count": 4,
   "id": "705ae686-1854-446d-b427-2ccabfe003f7",
   "metadata": {},
   "outputs": [],
   "source": [
    "# We will only use the following 3 features\n",
    "features = [\"MedInc\", \"HouseAge\", \"AveRooms\"]"
   ]
  },
  {
   "cell_type": "code",
   "execution_count": 5,
   "id": "2e1f7491-d2bb-4479-8b15-5a21f24f890c",
   "metadata": {},
   "outputs": [],
   "source": [
    "# Separate features and target variable\n",
    "X = data[features].copy()\n",
    "y = data[\"MedHouseVal\"].copy()"
   ]
  },
  {
   "cell_type": "markdown",
   "id": "e2b73a29-1759-44e4-a8eb-2686872bc14d",
   "metadata": {},
   "source": [
    "### Splitting Training and Test Set"
   ]
  },
  {
   "cell_type": "code",
   "execution_count": 6,
   "id": "afca81e4-bcb4-43f1-b2ef-1274f28bda02",
   "metadata": {},
   "outputs": [],
   "source": [
    "import numpy as np\n",
    "\n",
    "# Permute the dataframe to kill any possible ordering used\n",
    "np.random.seed(0)      # Fix a random seed to allow reproducibility\n",
    "old_index = data.index\n",
    "new_index = np.random.permutation(old_index)\n",
    "\n",
    "X = X.loc[new_index].reset_index(drop = True)\n",
    "y = y.loc[new_index].reset_index(drop = True)"
   ]
  },
  {
   "cell_type": "code",
   "execution_count": 7,
   "id": "cb5f1467-66f2-4293-892e-e46be7e0f968",
   "metadata": {},
   "outputs": [],
   "source": [
    "# Use 80% of the data for training purposes and the remaining 20% for testing purposes\n",
    "train_test_cut = int(np.floor(len(X)*0.8))"
   ]
  },
  {
   "cell_type": "code",
   "execution_count": 8,
   "id": "3842dab2-7f3b-47a7-a38d-06fb761b3a64",
   "metadata": {},
   "outputs": [],
   "source": [
    "# Create the training set\n",
    "X_train = X.iloc[: train_test_cut].copy()\n",
    "y_train = y.iloc[: train_test_cut].copy()"
   ]
  },
  {
   "cell_type": "code",
   "execution_count": 9,
   "id": "07f85004-b1a0-4a73-a468-381ebc84a2ed",
   "metadata": {},
   "outputs": [],
   "source": [
    "# Create the test set\n",
    "X_test = X.iloc[train_test_cut :].copy()\n",
    "y_test = y.iloc[train_test_cut :].copy()"
   ]
  },
  {
   "cell_type": "code",
   "execution_count": 10,
   "id": "3ff52ec7-530a-4725-962f-80aa82949c62",
   "metadata": {},
   "outputs": [
    {
     "name": "stdout",
     "output_type": "stream",
     "text": [
      "The training set has 16512 samples\n",
      "The test set has 4128 samples\n"
     ]
    }
   ],
   "source": [
    "print(\"The training set has {} samples\".format(len(X_train)))\n",
    "print(\"The test set has {} samples\".format(len(X_test)))"
   ]
  },
  {
   "cell_type": "markdown",
   "id": "c499970f-b9ef-417c-aedc-d8fc10ecc0c5",
   "metadata": {},
   "source": [
    "## Implement a Gradient Boosting Regressor from Scratch"
   ]
  },
  {
   "cell_type": "markdown",
   "id": "85b87f38-0ceb-4f83-9ffe-8e1681f86a77",
   "metadata": {},
   "source": [
    "### Pseudo Code of the Training Algorithm"
   ]
  },
  {
   "cell_type": "markdown",
   "id": "5843c30c-a4dc-440b-b6cd-34bb6564c9b1",
   "metadata": {},
   "source": [
    "In the following we denote by $\\bf x$ the collection of training samples, by $\\bf y$ the corresponding target values and by $\\overline {\\bf y}$ the average of these values."
   ]
  },
  {
   "cell_type": "markdown",
   "id": "36e7a518-1d85-4e40-9493-49c8cfb74a9b",
   "metadata": {},
   "source": [
    "0. Create an empty list `fitted_gb_reg` to store the output data.\n",
    "1. Initialize the algorithm with the average of the target values. In other words, set $F_0(\\bf x) = \\overline {\\bf y}$, where $F_k(\\bf x)$ are the values predicted by the algorithm during the $k$-th iteration (at this point we haven't done any iteration so $k=0$).\n",
    "2. Append the value $\\overline {\\bf y}$ to the list `fitted_gb_reg`.\n",
    "3. Calculate the residuals $\\bf r$, i.e., the difference between the true values and the predicted values. In other words, $\\textbf {r} = \\textbf {y} - F_k(\\textbf {x})$.\n",
    "4. Train a decision tree $T_k$ on the samples $\\bf x$ with target variable the residuals $\\bf r$.\n",
    "5. Calculate the leaves' output values using the average of the samples they contain.\n",
    "6. Append the fitted tree $T_k$ to the list `fitted_gb_reg`.\n",
    "7. Feed the samples $\\bf x$ to $T_k$ and let $T_k(\\bf x)$ be the outputted values. The new predicted values are $F_{k+1}(\\textbf {x}) =  F_{k}(\\textbf {x}) + \\alpha T_k(\\textbf {x})$, where $\\alpha$ is the `learning rate` (an hyperparameter fixed at the beginning). \n",
    "8. Increase $k$ by 1.\n",
    "9. If $k >$ `n_estimators` (where `n_estimators` is an integer hyperparameter fixed at the beginning), return `fitted_gb_reg`; else go back to step 3."
   ]
  },
  {
   "cell_type": "markdown",
   "id": "28cef331-05cb-4c11-89d0-c2425aed5425",
   "metadata": {},
   "source": [
    "The list `fitted_gb_reg` returned by this algorithm represents a fitted instance of the Gradient Boosting Regressor."
   ]
  },
  {
   "cell_type": "markdown",
   "id": "84128e04-2fad-49f0-b882-9575a7717019",
   "metadata": {},
   "source": [
    "### Coding the Training Algorithm"
   ]
  },
  {
   "cell_type": "code",
   "execution_count": 11,
   "id": "8ac2aa26-f89c-48ff-ad54-a3d3afdd4459",
   "metadata": {},
   "outputs": [],
   "source": [
    "from sklearn.tree import DecisionTreeRegressor\n",
    "\n",
    "def grad_boost_fit(X, y, n_estimators = 100, learning_rate = 0.1):  # We set the same hyperparameter default values used by\n",
    "                                                                    # sklearn's instance of Gradient Boosting Regressor \n",
    "    \"\"\"\n",
    "    Fit my Gradient Boosting Regressor.\n",
    "    \n",
    "    :param X: the samples we use to train the model\n",
    "    :type X: pandas.DataFrame of shape (n_samples, n_features)\n",
    "    :param y: the target values of the training data\n",
    "    :type y: pandas.Series of shape (n_samples,)\n",
    "    :param n_estimators: the number of boosting stages to perform\n",
    "    :type n_estimators: int, default = 100\n",
    "    :param learning_rate: the learning rate used in the algorithm. It must be in range (0, infty)\n",
    "    :type learning_rate: float, default = 0.1\n",
    "    \n",
    "    :return: gb_reg, a dictionary with the following attributes\n",
    "    \n",
    "                 fitted_gb_reg: a list containing all the decision trees created during the boosting stages\n",
    "                            This list represents a fitted instance of the Gradient Boosting Regressor.\n",
    "             \n",
    "                 n_estimators: the max number of boosting stages performed\n",
    "                 \n",
    "                 learning_rate: the learning rate used in the algorithm\n",
    "\n",
    "    \"\"\"\n",
    "    \n",
    "    # STEP 0: initialize a list which will represent a fitted instance of the Gradient Boosting Regressor \n",
    "    fitted_gb_reg = []\n",
    "    \n",
    "    # STEP 1: initialize the algorithm with the mean of the target variable\n",
    "    predictions = y.mean()\n",
    "    \n",
    "    # STEP 2: add this initial value to the list representing the fitted Gradient Boosting Regressor\n",
    "    fitted_gb_reg.append(predictions)\n",
    "    \n",
    "    # Initialize a count of the number of boosting stages performed\n",
    "    n_estimators_trained = 0\n",
    "    \n",
    "    # test STEP 9 condition: keep boosting until we reach the max number of stages\n",
    "    while (n_estimators_trained < n_estimators):\n",
    "        \n",
    "        # STEP 3: calculate the residuals\n",
    "        residuals = y - predictions\n",
    "        \n",
    "        # STEP 4: instantiate and fit a decision tree which predicts the residuals\n",
    "        # STEP 5: because of the way sklearn's decision trees work, Step 5 is automatically performed at this point  \n",
    "        tree = DecisionTreeRegressor(max_depth = 3, random_state = 1) # We set the same hyperparameter default values used by\n",
    "                                                                      # sklearn's instance of Gradient Boosting Regressor \n",
    "                                                                      # We also set a random_state for reproducibility purposes\n",
    "        _ = tree.fit(X, residuals)\n",
    "        \n",
    "        # STEP 6: add the fitted tree to the list representing the fitted Gradient Boosting Regressor\n",
    "        fitted_gb_reg.append(tree)\n",
    "        \n",
    "        # STEP 7: use the tree to predict the residuals and update the predictions for the target values\n",
    "        predicted_residuals = tree.predict(X)\n",
    "        predictions += learning_rate * predicted_residuals\n",
    "        \n",
    "        # STEP 8: increase the number of boosting stages performed\n",
    "        n_estimators_trained += 1\n",
    "    \n",
    "    # exit STEP 9 condition: the list we created represents a fitted instance of the Gradient Boosted Regressor\n",
    "    gb_reg = {\"model\" : fitted_gb_reg,        # We return a dictionary containing the model and the hyperparameters we used\n",
    "              \"n_estimators\" : n_estimators,\n",
    "              \"learning_rate\" : learning_rate}\n",
    "    \n",
    "    return gb_reg"
   ]
  },
  {
   "cell_type": "markdown",
   "id": "7b60579f-7a51-4c48-8bbb-64f8291e9857",
   "metadata": {},
   "source": [
    "### Pseudo Code for Making Predictions"
   ]
  },
  {
   "cell_type": "markdown",
   "id": "f2352ed2-8102-4596-966d-d75dc1471bb9",
   "metadata": {},
   "source": [
    "In the following `fitted_gb_reg` is the list representing the fitted Gradient Boosting Regressor we constructed above. Moreover,  we denote by $\\hat {\\bf x}$ the collection of new samples we are trying to predict and with $\\hat {\\bf y}$ the corresponding target values predicted by the model."
   ]
  },
  {
   "cell_type": "markdown",
   "id": "6125cc19-d025-438d-b1c1-4cebf6c5d80b",
   "metadata": {},
   "source": [
    "1. Set the initial predictions to be the value we used to initialize the training algorithm. In other words, set $\\hat {\\bf y} = $ `fitted_gb_reg[0]`.\n",
    "2. For each decision tree $T_k$ in `fitted_gb_reg`, feed the samples $\\hat {\\bf x}$ to $T_k$ and get the outputted values $T_k(\\hat {\\bf x})$\n",
    "    1. Feed the samples $\\hat {\\bf x}$ to $T_k$ and get the outputted values $T_k(\\hat {\\bf x})$.\n",
    "    2. Set the new predicted values to be $\\hat {\\bf y} = \\hat {\\bf y} + \\alpha T_k(\\hat {\\bf x})$, where              $\\alpha$ is the `learning rate` that was established at the beginning of the training algorithm.  "
   ]
  },
  {
   "cell_type": "markdown",
   "id": "733605f5-16f5-406d-ac50-fb69c54fa6c6",
   "metadata": {},
   "source": [
    "From the description above it is clear that the final predictions are $\\hat {\\bf y} = \\overline {\\bf y} + \\sum_ T\\alpha T(\\hat {\\bf x})$, where the sum is taken over all the trees $T$ in `fitted_gb_reg[1:]`."
   ]
  },
  {
   "cell_type": "markdown",
   "id": "f6c17720-3b2c-4070-acc0-26a73732578b",
   "metadata": {},
   "source": [
    "### Coding the Making Predictions"
   ]
  },
  {
   "cell_type": "code",
   "execution_count": 12,
   "id": "d984499e-1fc8-4589-9d23-e68335f87d72",
   "metadata": {},
   "outputs": [],
   "source": [
    "def grad_boost_predict(X, gb_reg):\n",
    "    \"\"\"\n",
    "    Use a fitted instance of my Gradient Boosting Regressor to make predictions.\n",
    "    \n",
    "    :param X: the samples we want to predict\n",
    "    :type X: pandas.DataFrame of shape (n_queries, n_features)\n",
    "    :param gb_reg: a fitted instance of the Gradient Boosting Regressor\n",
    "    :type gb_reg: dictionary\n",
    "    \n",
    "    :return: output, a dictionary with the following keys\n",
    "    \n",
    "                 \"predictions\", the predicted classes\n",
    "                 \n",
    "                 \"n_estimators\", the number of boosting stages performed during the training phase\n",
    "                 \n",
    "                 \"learning_rate\", the learning rate used in the algorithm\n",
    "    \"\"\"\n",
    "    \n",
    "     # Extract the model and hyperparameters from the input data\n",
    "    fitted_gb_reg = gb_reg[\"model\"]\n",
    "    learning_rate = gb_reg[\"learning_rate\"]\n",
    "    n_estimators = gb_reg[\"n_estimators\"]\n",
    "    \n",
    "    # STEP 1: set the initial predictions to be the value we used to initialize the training algorithm \n",
    "    predictions = fitted_gb_reg[0]\n",
    "    \n",
    "    # Loop through all the boosting stages\n",
    "    for i in range(1, len(fitted_gb_reg)):\n",
    "        \n",
    "        # STEP 2A: feed the samples to the tree trained at the current stage and get the output values\n",
    "        predicted_residuals = fitted_gb_reg[i].predict(X)\n",
    "        \n",
    "        # STEP 2B: update the model's predictions \n",
    "        predictions += learning_rate * predicted_residuals\n",
    "    \n",
    "    # Return a dataframe with the the predicted values and the hyperparameters used\n",
    "    output = {\"predictions\" : predictions,\n",
    "              \"n_estimators\" : n_estimators,\n",
    "              \"learning_rate\" : learning_rate,\n",
    "               }\n",
    "    \n",
    "    return output    "
   ]
  },
  {
   "cell_type": "markdown",
   "id": "e6a41ea9-33e7-4209-a465-628f1d7d8bd3",
   "metadata": {},
   "source": [
    "## Evaluating my Gradient Boosting Regressor"
   ]
  },
  {
   "cell_type": "code",
   "execution_count": 13,
   "id": "17a9578f-deeb-4b53-8203-bc4db8b9190e",
   "metadata": {},
   "outputs": [],
   "source": [
    "# Initialize a dictionary to evaluate the performance of my Gradient Boosting Regressor on the test data\n",
    "my_test_errors = dict()\n",
    "# Initialize the samples we want to predict (in this case, the test data)\n",
    "X_hat = X_test\n",
    "\n",
    "# Fit an instance of my Gradient Boosting Regressor and use it to predict the test data at different learning rates\n",
    "# Evaluate the model using RMSE and collect all these values into a dictionary\n",
    "for alpha in [x/10 for x in range(1, 11)]:  # We use learning the rates 0.1, 0.2, 0.3, ..., 1\n",
    "    fitted_gb_reg = grad_boost_fit(X_train, y_train, learning_rate = alpha)\n",
    "    my_test_predictions = grad_boost_predict(X_hat, fitted_gb_reg)[\"predictions\"]\n",
    "    my_test_errors[alpha] = np.sqrt((y_test - my_test_predictions).apply(lambda x : x**2).mean())"
   ]
  },
  {
   "cell_type": "code",
   "execution_count": 14,
   "id": "285491eb-8c6d-43b5-85d8-e3f740e755ab",
   "metadata": {},
   "outputs": [
    {
     "data": {
      "image/png": "[encoded data removed]",
      "text/plain": [
       "<Figure size 432x288 with 1 Axes>"
      ]
     },
     "metadata": {
      "needs_background": "light"
     },
     "output_type": "display_data"
    }
   ],
   "source": [
    "import matplotlib.pyplot as plt\n",
    "import seaborn as sns\n",
    "\n",
    "# Plot the errors we obtain\n",
    "sns.barplot(x = list(my_test_errors.keys()), y = list(my_test_errors.values()))\n",
    "plt.xlabel(\"Learning Rate\");\n",
    "plt.ylabel(\"RMSE\");\n",
    "plt.title(\"Performance of my Gradient Boosting Regressor\\n on the Test Set at Different Learning Rates\", weight = \"bold\");"
   ]
  },
  {
   "cell_type": "markdown",
   "id": "1581beec-0ed5-4cd7-afc6-39299304cb7a",
   "metadata": {},
   "source": [
    "## Comparing my Model to sklearn's Implementation of Gradient Boosting Regressor"
   ]
  },
  {
   "cell_type": "code",
   "execution_count": 15,
   "id": "338e25c5-212b-4e9b-bf43-f6d29f4f28c5",
   "metadata": {},
   "outputs": [
    {
     "data": {
      "text/plain": [
       "GradientBoostingRegressor(random_state=1)"
      ]
     },
     "execution_count": 15,
     "metadata": {},
     "output_type": "execute_result"
    },
    {
     "data": {
      "text/plain": [
       "GradientBoostingRegressor(learning_rate=0.2, random_state=1)"
      ]
     },
     "execution_count": 15,
     "metadata": {},
     "output_type": "execute_result"
    },
    {
     "data": {
      "text/plain": [
       "GradientBoostingRegressor(learning_rate=0.3, random_state=1)"
      ]
     },
     "execution_count": 15,
     "metadata": {},
     "output_type": "execute_result"
    },
    {
     "data": {
      "text/plain": [
       "GradientBoostingRegressor(learning_rate=0.4, random_state=1)"
      ]
     },
     "execution_count": 15,
     "metadata": {},
     "output_type": "execute_result"
    },
    {
     "data": {
      "text/plain": [
       "GradientBoostingRegressor(learning_rate=0.5, random_state=1)"
      ]
     },
     "execution_count": 15,
     "metadata": {},
     "output_type": "execute_result"
    },
    {
     "data": {
      "text/plain": [
       "GradientBoostingRegressor(learning_rate=0.6, random_state=1)"
      ]
     },
     "execution_count": 15,
     "metadata": {},
     "output_type": "execute_result"
    },
    {
     "data": {
      "text/plain": [
       "GradientBoostingRegressor(learning_rate=0.7, random_state=1)"
      ]
     },
     "execution_count": 15,
     "metadata": {},
     "output_type": "execute_result"
    },
    {
     "data": {
      "text/plain": [
       "GradientBoostingRegressor(learning_rate=0.8, random_state=1)"
      ]
     },
     "execution_count": 15,
     "metadata": {},
     "output_type": "execute_result"
    },
    {
     "data": {
      "text/plain": [
       "GradientBoostingRegressor(learning_rate=0.9, random_state=1)"
      ]
     },
     "execution_count": 15,
     "metadata": {},
     "output_type": "execute_result"
    },
    {
     "data": {
      "text/plain": [
       "GradientBoostingRegressor(learning_rate=1.0, random_state=1)"
      ]
     },
     "execution_count": 15,
     "metadata": {},
     "output_type": "execute_result"
    }
   ],
   "source": [
    "from sklearn.ensemble import GradientBoostingRegressor\n",
    "\n",
    "# Now do the same thing using the sklearn's Gradient Boosting Regressor\n",
    "\n",
    "sklearn_test_errors = dict()\n",
    "\n",
    "for alpha in [x / 10 for x in range(1, 11)]:\n",
    "    gb_regr = GradientBoostingRegressor(learning_rate = alpha, random_state = 1)\n",
    "    gb_regr.fit(X_train, y_train)\n",
    "    sklearn_test_predictions = gb_regr.predict(X_test)  \n",
    "    sklearn_test_errors[alpha] = np.sqrt((y_test - sklearn_test_predictions).apply(lambda x : x**2).mean())"
   ]
  },
  {
   "cell_type": "code",
   "execution_count": 16,
   "id": "4a8b0694-0a07-4d32-8fd8-c2269cc25c80",
   "metadata": {},
   "outputs": [
    {
     "data": {
      "image/png": "[encoded data removed]",
      "text/plain": [
       "<Figure size 864x432 with 2 Axes>"
      ]
     },
     "metadata": {
      "needs_background": "light"
     },
     "output_type": "display_data"
    }
   ],
   "source": [
    "# Compare my Gradient Boosting Regressor with the one from sklearn by plotting side by side the errors each of them yields \n",
    "# on the test data\n",
    "\n",
    "fig, axs = plt.subplots(1,2, figsize = (12, 6))\n",
    "\n",
    "_ = sns.barplot(x = list(my_test_errors.keys()), y = list(my_test_errors.values()), ax = axs[0]);\n",
    "_ = sns.barplot(x = list(sklearn_test_errors.keys()), y = list(sklearn_test_errors.values()), ax = axs[1]);\n",
    "\n",
    "_ = axs[0].set_ylabel(\"RMSE\")\n",
    "\n",
    "for ax in axs:\n",
    "    _ = ax.set_xlabel(\"Learning Rate\")\n",
    "\n",
    "_ = axs[0].set_title(\"My Gradient Boosting Regressor\")    \n",
    "_ = axs[1].set_title(\"sklearn's Gradient Boosting Regressor\")    \n",
    "\n",
    "_ = fig.suptitle(\"Performance of Mine vs. sklearn's Gradient Boosting Regressor on the Test Set\", weight = \"bold\")"
   ]
  }
 ],
 "metadata": {
  "kernelspec": {
   "display_name": "Python 3 (ipykernel)",
   "language": "python",
   "name": "python3"
  },
  "language_info": {
   "codemirror_mode": {
    "name": "ipython",
    "version": 3
   },
   "file_extension": ".py",
   "mimetype": "text/x-python",
   "name": "python",
   "nbconvert_exporter": "python",
   "pygments_lexer": "ipython3",
   "version": "3.9.7"
  }
 },
 "nbformat": 4,
 "nbformat_minor": 5
}
