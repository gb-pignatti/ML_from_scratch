{
 "cells": [
  {
   "cell_type": "markdown",
   "id": "20315ade-c160-4ac7-9760-1bb19cf7e07d",
   "metadata": {},
   "source": [
    "# k-Nearest Neighbors (Multiclass) Classification from Scratch"
   ]
  },
  {
   "cell_type": "markdown",
   "id": "c221e89b-b429-43d4-b1b4-1e8957e22243",
   "metadata": {},
   "source": [
    "## Prepare the Data"
   ]
  },
  {
   "cell_type": "markdown",
   "id": "1e8f9ae8-09f7-4e6f-a545-a4f876688b7d",
   "metadata": {},
   "source": [
    "### Loading the Data"
   ]
  },
  {
   "cell_type": "code",
   "execution_count": 1,
   "id": "e27c0b24-705e-4c78-b850-bd859c78b4a6",
   "metadata": {},
   "outputs": [],
   "source": [
    "from sklearn import datasets\n",
    "import pandas as pd\n",
    "from IPython.core.interactiveshell import InteractiveShell\n",
    "InteractiveShell.ast_node_interactivity = \"all\"\n",
    "\n",
    "# Load the wine toy dataset\n",
    "wine = datasets.load_wine(as_frame = True)"
   ]
  },
  {
   "cell_type": "code",
   "execution_count": 2,
   "id": "1bebc85d-c83b-483f-af8a-b91833f032a5",
   "metadata": {},
   "outputs": [
    {
     "data": {
      "text/html": [
       "<div>\n",
       "<style scoped>\n",
       "    .dataframe tbody tr th:only-of-type {\n",
       "        vertical-align: middle;\n",
       "    }\n",
       "\n",
       "    .dataframe tbody tr th {\n",
       "        vertical-align: top;\n",
       "    }\n",
       "\n",
       "    .dataframe thead th {\n",
       "        text-align: right;\n",
       "    }\n",
       "</style>\n",
       "<table border=\"1\" class=\"dataframe\">\n",
       "  <thead>\n",
       "    <tr style=\"text-align: right;\">\n",
       "      <th></th>\n",
       "      <th>alcohol</th>\n",
       "      <th>malic_acid</th>\n",
       "      <th>ash</th>\n",
       "      <th>alcalinity_of_ash</th>\n",
       "      <th>magnesium</th>\n",
       "      <th>total_phenols</th>\n",
       "      <th>flavanoids</th>\n",
       "      <th>nonflavanoid_phenols</th>\n",
       "      <th>proanthocyanins</th>\n",
       "      <th>color_intensity</th>\n",
       "      <th>hue</th>\n",
       "      <th>od280/od315_of_diluted_wines</th>\n",
       "      <th>proline</th>\n",
       "      <th>target</th>\n",
       "    </tr>\n",
       "  </thead>\n",
       "  <tbody>\n",
       "    <tr>\n",
       "      <th>0</th>\n",
       "      <td>14.23</td>\n",
       "      <td>1.71</td>\n",
       "      <td>2.43</td>\n",
       "      <td>15.6</td>\n",
       "      <td>127.0</td>\n",
       "      <td>2.80</td>\n",
       "      <td>3.06</td>\n",
       "      <td>0.28</td>\n",
       "      <td>2.29</td>\n",
       "      <td>5.64</td>\n",
       "      <td>1.04</td>\n",
       "      <td>3.92</td>\n",
       "      <td>1065.0</td>\n",
       "      <td>0</td>\n",
       "    </tr>\n",
       "    <tr>\n",
       "      <th>1</th>\n",
       "      <td>13.20</td>\n",
       "      <td>1.78</td>\n",
       "      <td>2.14</td>\n",
       "      <td>11.2</td>\n",
       "      <td>100.0</td>\n",
       "      <td>2.65</td>\n",
       "      <td>2.76</td>\n",
       "      <td>0.26</td>\n",
       "      <td>1.28</td>\n",
       "      <td>4.38</td>\n",
       "      <td>1.05</td>\n",
       "      <td>3.40</td>\n",
       "      <td>1050.0</td>\n",
       "      <td>0</td>\n",
       "    </tr>\n",
       "    <tr>\n",
       "      <th>2</th>\n",
       "      <td>13.16</td>\n",
       "      <td>2.36</td>\n",
       "      <td>2.67</td>\n",
       "      <td>18.6</td>\n",
       "      <td>101.0</td>\n",
       "      <td>2.80</td>\n",
       "      <td>3.24</td>\n",
       "      <td>0.30</td>\n",
       "      <td>2.81</td>\n",
       "      <td>5.68</td>\n",
       "      <td>1.03</td>\n",
       "      <td>3.17</td>\n",
       "      <td>1185.0</td>\n",
       "      <td>0</td>\n",
       "    </tr>\n",
       "    <tr>\n",
       "      <th>3</th>\n",
       "      <td>14.37</td>\n",
       "      <td>1.95</td>\n",
       "      <td>2.50</td>\n",
       "      <td>16.8</td>\n",
       "      <td>113.0</td>\n",
       "      <td>3.85</td>\n",
       "      <td>3.49</td>\n",
       "      <td>0.24</td>\n",
       "      <td>2.18</td>\n",
       "      <td>7.80</td>\n",
       "      <td>0.86</td>\n",
       "      <td>3.45</td>\n",
       "      <td>1480.0</td>\n",
       "      <td>0</td>\n",
       "    </tr>\n",
       "    <tr>\n",
       "      <th>4</th>\n",
       "      <td>13.24</td>\n",
       "      <td>2.59</td>\n",
       "      <td>2.87</td>\n",
       "      <td>21.0</td>\n",
       "      <td>118.0</td>\n",
       "      <td>2.80</td>\n",
       "      <td>2.69</td>\n",
       "      <td>0.39</td>\n",
       "      <td>1.82</td>\n",
       "      <td>4.32</td>\n",
       "      <td>1.04</td>\n",
       "      <td>2.93</td>\n",
       "      <td>735.0</td>\n",
       "      <td>0</td>\n",
       "    </tr>\n",
       "  </tbody>\n",
       "</table>\n",
       "</div>"
      ],
      "text/plain": [
       "   alcohol  malic_acid   ash  alcalinity_of_ash  magnesium  total_phenols  \\\n",
       "0    14.23        1.71  2.43               15.6      127.0           2.80   \n",
       "1    13.20        1.78  2.14               11.2      100.0           2.65   \n",
       "2    13.16        2.36  2.67               18.6      101.0           2.80   \n",
       "3    14.37        1.95  2.50               16.8      113.0           3.85   \n",
       "4    13.24        2.59  2.87               21.0      118.0           2.80   \n",
       "\n",
       "   flavanoids  nonflavanoid_phenols  proanthocyanins  color_intensity   hue  \\\n",
       "0        3.06                  0.28             2.29             5.64  1.04   \n",
       "1        2.76                  0.26             1.28             4.38  1.05   \n",
       "2        3.24                  0.30             2.81             5.68  1.03   \n",
       "3        3.49                  0.24             2.18             7.80  0.86   \n",
       "4        2.69                  0.39             1.82             4.32  1.04   \n",
       "\n",
       "   od280/od315_of_diluted_wines  proline  target  \n",
       "0                          3.92   1065.0       0  \n",
       "1                          3.40   1050.0       0  \n",
       "2                          3.17   1185.0       0  \n",
       "3                          3.45   1480.0       0  \n",
       "4                          2.93    735.0       0  "
      ]
     },
     "execution_count": 2,
     "metadata": {},
     "output_type": "execute_result"
    }
   ],
   "source": [
    "# Take a look at the dataframe\n",
    "data = wine[\"frame\"]\n",
    "data.head()"
   ]
  },
  {
   "cell_type": "code",
   "execution_count": 3,
   "id": "7d32c87f-c77f-4b60-b7ae-636f5a2013cf",
   "metadata": {},
   "outputs": [
    {
     "name": "stdout",
     "output_type": "stream",
     "text": [
      ".. _wine_dataset:\n",
      "\n",
      "Wine recognition dataset\n",
      "------------------------\n",
      "\n",
      "**Data Set Characteristics:**\n",
      "\n",
      "    :Number of Instances: 178 (50 in each of three classes)\n",
      "    :Number of Attributes: 13 numeric, predictive attributes and the class\n",
      "    :Attribute Information:\n",
      " \t\t- Alcohol\n",
      " \t\t- Malic acid\n",
      " \t\t- Ash\n",
      "\t\t- Alcalinity of ash  \n",
      " \t\t- Magnesium\n",
      "\t\t- Total phenols\n",
      " \t\t- Flavanoids\n",
      " \t\t- Nonflavanoid phenols\n",
      " \t\t- Proanthocyanins\n",
      "\t\t- Color intensity\n",
      " \t\t- Hue\n",
      " \t\t- OD280/OD315 of diluted wines\n",
      " \t\t- Proline\n",
      "\n",
      "    - class:\n",
      "            - class_0\n",
      "            - class_1\n",
      "            - class_2\n",
      "\t\t\n",
      "    :Summary Statistics:\n",
      "    \n",
      "    ============================= ==== ===== ======= =====\n",
      "                                   Min   Max   Mean     SD\n",
      "    ============================= ==== ===== ======= =====\n",
      "    Alcohol:                      11.0  14.8    13.0   0.8\n",
      "    Malic Acid:                   0.74  5.80    2.34  1.12\n",
      "    Ash:                          1.36  3.23    2.36  0.27\n",
      "    Alcalinity of Ash:            10.6  30.0    19.5   3.3\n",
      "    Magnesium:                    70.0 162.0    99.7  14.3\n",
      "    Total Phenols:                0.98  3.88    2.29  0.63\n",
      "    Flavanoids:                   0.34  5.08    2.03  1.00\n",
      "    Nonflavanoid Phenols:         0.13  0.66    0.36  0.12\n",
      "    Proanthocyanins:              0.41  3.58    1.59  0.57\n",
      "    Colour Intensity:              1.3  13.0     5.1   2.3\n",
      "    Hue:                          0.48  1.71    0.96  0.23\n",
      "    OD280/OD315 of diluted wines: 1.27  4.00    2.61  0.71\n",
      "    Proline:                       278  1680     746   315\n",
      "    ============================= ==== ===== ======= =====\n",
      "\n",
      "    :Missing Attribute Values: None\n",
      "    :Class Distribution: class_0 (59), class_1 (71), class_2 (48)\n",
      "    :Creator: R.A. Fisher\n",
      "    :Donor: Michael Marshall (MARSHALL%PLU@io.arc.nasa.gov)\n",
      "    :Date: July, 1988\n",
      "\n",
      "This is a copy of UCI ML Wine recognition datasets.\n",
      "https://archive.ics.uci.edu/ml/machine-learning-databases/wine/wine.data\n",
      "\n",
      "The data is the results of a chemical analysis of wines grown in the same\n",
      "region in Italy by three different cultivators. There are thirteen different\n",
      "measurements taken for different constituents found in the three types of\n",
      "wine.\n",
      "\n",
      "Original Owners: \n",
      "\n",
      "Forina, M. et al, PARVUS - \n",
      "An Extendible Package for Data Exploration, Classification and Correlation. \n",
      "Institute of Pharmaceutical and Food Analysis and Technologies,\n",
      "Via Brigata Salerno, 16147 Genoa, Italy.\n",
      "\n",
      "Citation:\n",
      "\n",
      "Lichman, M. (2013). UCI Machine Learning Repository\n",
      "[https://archive.ics.uci.edu/ml]. Irvine, CA: University of California,\n",
      "School of Information and Computer Science. \n",
      "\n",
      ".. topic:: References\n",
      "\n",
      "  (1) S. Aeberhard, D. Coomans and O. de Vel, \n",
      "  Comparison of Classifiers in High Dimensional Settings, \n",
      "  Tech. Rep. no. 92-02, (1992), Dept. of Computer Science and Dept. of  \n",
      "  Mathematics and Statistics, James Cook University of North Queensland. \n",
      "  (Also submitted to Technometrics). \n",
      "\n",
      "  The data was used with many others for comparing various \n",
      "  classifiers. The classes are separable, though only RDA \n",
      "  has achieved 100% correct classification. \n",
      "  (RDA : 100%, QDA 99.4%, LDA 98.9%, 1NN 96.1% (z-transformed data)) \n",
      "  (All results using the leave-one-out technique) \n",
      "\n",
      "  (2) S. Aeberhard, D. Coomans and O. de Vel, \n",
      "  \"THE CLASSIFICATION PERFORMANCE OF RDA\" \n",
      "  Tech. Rep. no. 92-01, (1992), Dept. of Computer Science and Dept. of \n",
      "  Mathematics and Statistics, James Cook University of North Queensland. \n",
      "  (Also submitted to Journal of Chemometrics).\n",
      "\n"
     ]
    }
   ],
   "source": [
    "# Print info about the dataframe\n",
    "print(wine[\"DESCR\"])"
   ]
  },
  {
   "cell_type": "markdown",
   "id": "33bfeaab-b881-4926-9c06-2630dd59fbc7",
   "metadata": {},
   "source": [
    "### Selecting Features and Target Variable"
   ]
  },
  {
   "cell_type": "code",
   "execution_count": 4,
   "id": "c2c0f44e-93d1-4ae7-a523-a97a66fc4227",
   "metadata": {},
   "outputs": [],
   "source": [
    "# Separate the data and target variable\n",
    "X = data.iloc[:, : -1].copy()   # We will try to use all features\n",
    "y = data.iloc[:, -1].copy()"
   ]
  },
  {
   "cell_type": "code",
   "execution_count": 5,
   "id": "f7a0ef16-8c2f-4712-8f0c-b5d1fe49dbc1",
   "metadata": {},
   "outputs": [
    {
     "data": {
      "text/plain": [
       "1    71\n",
       "0    59\n",
       "2    48\n",
       "Name: target, dtype: int64"
      ]
     },
     "execution_count": 5,
     "metadata": {},
     "output_type": "execute_result"
    }
   ],
   "source": [
    "# Check counts of the target classes\n",
    "y.value_counts()"
   ]
  },
  {
   "cell_type": "markdown",
   "id": "d1355d97-b92c-4350-888b-cca653d707f8",
   "metadata": {},
   "source": [
    "### Normalizing the Data"
   ]
  },
  {
   "cell_type": "markdown",
   "id": "26c0dbfd-d720-493e-b2de-0c4109ec7db1",
   "metadata": {},
   "source": [
    "Since kNN uses the euclidean distance to find the nearest neighbors, we need to normalize the data to make sure all features have the same bearing in the calculations. In this case, we will normalize the data using the min/max scaler."
   ]
  },
  {
   "cell_type": "code",
   "execution_count": 6,
   "id": "ecf3e436-3772-424a-bbff-7f684bac2904",
   "metadata": {},
   "outputs": [],
   "source": [
    "# Normalize the data using the min/max scaler\n",
    "X = (X - X.min()) / (X.max() - X.min())"
   ]
  },
  {
   "cell_type": "markdown",
   "id": "53ec74fc-fb81-44b2-b83e-4b603b957421",
   "metadata": {},
   "source": [
    "### Splitting Training and Test Set"
   ]
  },
  {
   "cell_type": "code",
   "execution_count": 7,
   "id": "3d3a2dfb-6188-4de6-8ba2-b2435833d78b",
   "metadata": {},
   "outputs": [],
   "source": [
    "import numpy as np\n",
    "\n",
    "# Permute the dataframe to kill any possible ordering used\n",
    "np.random.seed(0)      # Fix a random seed to allow reproducibility\n",
    "old_index = data.index\n",
    "new_index = np.random.permutation(old_index)\n",
    "\n",
    "X = X.loc[new_index].reset_index(drop = True)\n",
    "y = y.loc[new_index].reset_index(drop = True)"
   ]
  },
  {
   "cell_type": "code",
   "execution_count": 8,
   "id": "70ee0a84-dc44-4934-a7bd-4238bce9fd2a",
   "metadata": {},
   "outputs": [],
   "source": [
    "# Use 80% of the data for training purposes and the remaining 20% for testing purposes\n",
    "train_test_cut = int(np.floor(len(X)*0.8))"
   ]
  },
  {
   "cell_type": "code",
   "execution_count": 9,
   "id": "99146ed7-32e0-4346-9cb5-bfb52ac46a27",
   "metadata": {},
   "outputs": [],
   "source": [
    "# Create the training set\n",
    "X_train = X.iloc[: train_test_cut].copy()\n",
    "y_train = y.iloc[: train_test_cut].copy()"
   ]
  },
  {
   "cell_type": "code",
   "execution_count": 10,
   "id": "f06e35a6-bb72-43ff-9fc7-efa540f7348a",
   "metadata": {},
   "outputs": [],
   "source": [
    "# Create the test set\n",
    "X_test = X.iloc[train_test_cut :].copy()\n",
    "y_test = y.iloc[train_test_cut :].copy()"
   ]
  },
  {
   "cell_type": "code",
   "execution_count": 11,
   "id": "a91c3210-97e5-40fa-80d9-a04f56f0d28c",
   "metadata": {},
   "outputs": [
    {
     "name": "stdout",
     "output_type": "stream",
     "text": [
      "The training set has 142 samples\n",
      "The test set has 36 samples\n"
     ]
    }
   ],
   "source": [
    "print(\"The training set has {} samples\".format(len(X_train)))\n",
    "print(\"The test set has {} samples\".format(len(X_test)))"
   ]
  },
  {
   "cell_type": "code",
   "execution_count": 12,
   "id": "7f700013-a3f4-4c84-b773-62e19c7ff75d",
   "metadata": {},
   "outputs": [
    {
     "data": {
      "text/plain": [
       "1    56\n",
       "0    49\n",
       "2    37\n",
       "Name: target, dtype: int64"
      ]
     },
     "execution_count": 12,
     "metadata": {},
     "output_type": "execute_result"
    },
    {
     "data": {
      "text/plain": [
       "1    15\n",
       "2    11\n",
       "0    10\n",
       "Name: target, dtype: int64"
      ]
     },
     "execution_count": 12,
     "metadata": {},
     "output_type": "execute_result"
    }
   ],
   "source": [
    "# Check the value counts of the target in train and test sets\n",
    "y_train.value_counts()\n",
    "y_test.value_counts()"
   ]
  },
  {
   "cell_type": "markdown",
   "id": "0b20c3ec-65e0-4aaa-b647-89940e6e0d0a",
   "metadata": {},
   "source": [
    "## Implement a k-Nearest Neighbors Classifier from Scratch"
   ]
  },
  {
   "cell_type": "markdown",
   "id": "110d0357-e33f-4c68-8c9b-0af72bb9f21e",
   "metadata": {},
   "source": [
    "### Pseudo Code of the kNN Classification Algorithm"
   ]
  },
  {
   "cell_type": "markdown",
   "id": "1f8f5714-d275-49f1-9f57-c608830ee551",
   "metadata": {},
   "source": [
    "In the following we denote by $\\bf x$ the collection of the training samples, by $\\bf y$ the corresponding classes, by $\\hat {\\bf x}$ the collection of the new samples we are trying to predict and with $A$ the collection of unique classes appearing among the samples (in our case $A = \\{0, 1, 2\\}$)."
   ]
  },
  {
   "cell_type": "markdown",
   "id": "53f4bc40-89ff-48d2-b82c-4e8907090836",
   "metadata": {},
   "source": [
    "1. For each $\\hat x$ in $\\hat {\\bf x}$, find the distance between $\\hat x$ and each $x$ in $\\bf x$. \n",
    "2. For each $\\hat x$ in $\\hat {\\bf x}$, use these distances to find its `k` nearest neighbors, i.e., the `k` training samples with minimal distance from $\\hat x$ (here the `k` is an integer hyperparameter that is set at the beginning of the algorithm).\n",
    "3. If we denote by $x_1,\\dots, x_k$ these nearest neighbors, then the predicted class for the new sample $\\hat x$ is $\\text{arg max}_x\\big|\\big\\{\\sum_{i=1}^k \\textbf{1}_{\\{y_i=x\\}} : x\\in A\\big\\}\\big|$, i.e., the most common class appearing the nearest neighbors."
   ]
  },
  {
   "cell_type": "markdown",
   "id": "86da4463-1c50-46aa-b1e3-01c9f6d9f035",
   "metadata": {},
   "source": [
    "Note that, if we strictly adhere to the steps above, the kNN classification algorithm could return multiple classes for a single new sample. This happens when there is a tie among the nearest neighbors' classes. Then, in order to obtain an unambiguous classifier, we need to choose a method to break these ties. In our case we'll do the following:    "
   ]
  },
  {
   "cell_type": "markdown",
   "id": "655c1247-287d-493e-b2f9-e3c5ce7462af",
   "metadata": {},
   "source": [
    "4. If there is a tie, then filter out all the other classes and predict the class the nearest neighbor belongs to.  "
   ]
  },
  {
   "cell_type": "markdown",
   "id": "2986383a-3e53-43ae-a9fa-e71d325fb77f",
   "metadata": {},
   "source": [
    "### Coding Step 1"
   ]
  },
  {
   "cell_type": "markdown",
   "id": "c74ea9cf-0b62-4a74-930e-95ac4da974bc",
   "metadata": {
    "tags": []
   },
   "source": [
    "It's important to notice that the vast majority of the calculations are done during Step 1 when computing the distances. Once we obtain these distances, it is fast and easy to find the `k` nearest neighbors (for different values of `k`) and use them to make predictions. For this reason, in order to achieve decent execution times, we implement Step 1 separately.  "
   ]
  },
  {
   "cell_type": "code",
   "execution_count": 13,
   "id": "f989cf95-1130-48bd-a9c4-cf748c24de87",
   "metadata": {},
   "outputs": [],
   "source": [
    "def find_distances(X, X_hat, p=2): # We set the same hyperparameter default values used by\n",
    "                                   # sklearn's instance of kNN Regressor\n",
    "    \"\"\"\n",
    "    Find the distances between the training data and the data we are trying to predict.\n",
    "    \n",
    "    :param X: the samples we use to train the model\n",
    "    :type X: pandas.DataFrame of shape (n_samples, n_features)\n",
    "    :param X_hat: the samples we want to predict\n",
    "    :type X_hat: pandas.DataFrame of shape (n_queries, n_features)\n",
    "    :param p: power parameter which determines which l_p metric is used. It must be in range (1, infty)\n",
    "    :type p: int, default = 2; this results in the Euclidean metric being used\n",
    "    \n",
    "    :return: a dataframe of shape(n_queries, n_samples); the rows are the distances of the samples we want to predict\n",
    "             from each training sample \n",
    "    \"\"\"     \n",
    "    \n",
    "    # Transpose the training data to have the indexes on the columns\n",
    "    X = X.T\n",
    "    # Find the distances between each new sample and each training sample\n",
    "    distances = X.apply(lambda x : (((X_hat - x)**p).sum(axis = 1)) ** (1/p))\n",
    "    \n",
    "    return distances"
   ]
  },
  {
   "cell_type": "markdown",
   "id": "b10b7288-9968-4421-9b5a-3257c1cda867",
   "metadata": {},
   "source": [
    "### Coding Step 4"
   ]
  },
  {
   "cell_type": "markdown",
   "id": "ec88d666-406c-411d-9f76-6ef2941ba7ec",
   "metadata": {},
   "source": [
    "To keep the body of code of the main algorithm more lean, we also separately define the function that takes care of ties."
   ]
  },
  {
   "cell_type": "code",
   "execution_count": 14,
   "id": "ae0a649c-78b3-4349-896f-6011907f5183",
   "metadata": {},
   "outputs": [],
   "source": [
    "def break_ties(values):\n",
    "    \"\"\"\n",
    "    Break ties among nearest neighbors classes in case multiple classes have equal counts.\n",
    "    The tie breaker criterion is distance so the tied class the nearest neighbor belongs to is returned.\n",
    "    \n",
    "    :param values: the neighbors' classes\n",
    "    :type param: pandas.Series of shape (n_neighbors,)\n",
    "    \n",
    "    :return: the class that wins the tie\n",
    "    \"\"\"\n",
    "    classes_counts = values.value_counts() \n",
    "    tied_classes = classes_counts.loc[classes_counts == classes_counts.max()].index\n",
    "    relevant_values = values[values.isin(tied_classes)]\n",
    "    predicted_label = relevant_values.iloc[0]\n",
    "    \n",
    "    return predicted_label"
   ]
  },
  {
   "cell_type": "markdown",
   "id": "e3ff70e6-a762-4b90-9b3b-0f707918ca04",
   "metadata": {},
   "source": [
    "### Coding the Rest of the Algorithm"
   ]
  },
  {
   "cell_type": "code",
   "execution_count": 15,
   "id": "50eb842c-eac5-4a1f-9bb5-50bd19e71d68",
   "metadata": {},
   "outputs": [],
   "source": [
    "def knn_predict(y, distances, n_neighbors=5): # We set the same hyperparameter default values used by\n",
    "                                   # sklearn's instance of kNN Regressor\n",
    "    \"\"\"\n",
    "    Run the k-Nearest Neighbors regression algorithm and use it to make predictions.\n",
    "    \n",
    "    :param y: the target values of the training data\n",
    "    :type y: pandas.Series of shape (n_samples,)\n",
    "    :param distances: the distances between all the training samples and the new samples\n",
    "    :type distances: pd.DataFrame of shape (n_queries, n_samples)\n",
    "    :param n_neighbors: the number of neighbors to use in the algorithm\n",
    "    :type n_neighbors: int, default = 5\n",
    "    \n",
    "    :return: output, a dataframe with the following columns\n",
    "    \n",
    "                 \"nearest_neighbors\", contains the indexes of the k-nearest neighbors to each new sample we used\n",
    "                 \n",
    "                 \"predictions\", contains the predicted values\n",
    "    \"\"\"\n",
    "    \n",
    "    # STEP 2: use the distances to find the nearest neighbors.\n",
    "    #         The distances will be computed before running this function using the find_distances()\n",
    "    nearest_neighbors = distances.apply(lambda x : x.sort_values(ascending = True).iloc[:n_neighbors].index, axis = 1)\n",
    "    \n",
    "    # STEP 3: use the nearest neighbors to predict the target variable\n",
    "    predictions = nearest_neighbors.apply(lambda x : y.loc[x].value_counts().idxmax()\n",
    "                                          if (len(y.loc[x].value_counts()) == 1) or \n",
    "                                          (y.loc[x].value_counts().iloc[0] > y.loc[x].value_counts().iloc[1]) \n",
    "                                          else break_ties(y.loc[x]))  # STEP 4: break ties if necessary\n",
    "    \n",
    "    # Return a dataframe with both the nearest neighbors and the predicted classes\n",
    "    output = pd.DataFrame({\"predictions\" : predictions,\n",
    "                           \"nearest_neighbors\".format(n_neighbors) : nearest_neighbors\n",
    "                           })\n",
    "    \n",
    "    return output                         "
   ]
  },
  {
   "cell_type": "markdown",
   "id": "36706fb7-1314-4c4e-be41-1045cfe463af",
   "metadata": {},
   "source": [
    "## Evaluating my kNN Classifier"
   ]
  },
  {
   "cell_type": "code",
   "execution_count": 16,
   "id": "34e34d8a-d685-40bd-b7aa-6a0b723377da",
   "metadata": {},
   "outputs": [],
   "source": [
    "# Initialize a dictionary to evaluate the performance of my kNN Regressor on the test data\n",
    "my_test_accuracy_scores = dict()\n",
    "# Initialize the samples we want to predict (in this case, the test data)\n",
    "X_hat = X_test\n",
    "\n",
    "# Get the distances between the training samples and the samples we want to predict\n",
    "distances = find_distances(X_train, X_hat)\n",
    "\n",
    "# Use my kNN Regressor to predict the test data at different values of n_neighbors\n",
    "# Evaluate the model using accuracy_score and collect all these values into a dictionary\n",
    "for k in range(1, 11):  # We use values of k beetween 1 and 10\n",
    "    knn_output = knn_predict(y_train, distances, k)\n",
    "    my_test_predictions = knn_output[\"predictions\"]\n",
    "    my_test_accuracy_scores[k] = (y_test == my_test_predictions).sum() / len(y_test)"
   ]
  },
  {
   "cell_type": "code",
   "execution_count": 17,
   "id": "fc9642bc-8b2e-48c4-ba5d-f3ecd1bc218e",
   "metadata": {},
   "outputs": [
    {
     "data": {
      "image/png": "[encoded data removed]",
      "text/plain": [
       "<Figure size 432x288 with 1 Axes>"
      ]
     },
     "metadata": {
      "needs_background": "light"
     },
     "output_type": "display_data"
    }
   ],
   "source": [
    "import matplotlib.pyplot as plt\n",
    "import seaborn as sns\n",
    "\n",
    "# Plot the errors we obtain\n",
    "sns.barplot(x = list(my_test_accuracy_scores.keys()), y = list(my_test_accuracy_scores.values()))\n",
    "plt.xlabel(\"n_neighbors\");\n",
    "plt.ylabel(\"accuracy_score\");\n",
    "plt.title(\"Performance of my kNN Classifier\\n on the Test Set at Different k Values\", weight = \"bold\");"
   ]
  },
  {
   "cell_type": "markdown",
   "id": "97dc86e5-2950-4b56-8ca4-89d4cccb9030",
   "metadata": {},
   "source": [
    "## Comparing my Model to sklearn's Implementation of kNN Classifier"
   ]
  },
  {
   "cell_type": "code",
   "execution_count": 18,
   "id": "5063fc47-3c0a-43ef-ac69-3f8905d08a74",
   "metadata": {},
   "outputs": [
    {
     "data": {
      "text/plain": [
       "KNeighborsClassifier(n_neighbors=1)"
      ]
     },
     "execution_count": 18,
     "metadata": {},
     "output_type": "execute_result"
    },
    {
     "data": {
      "text/plain": [
       "KNeighborsClassifier(n_neighbors=2)"
      ]
     },
     "execution_count": 18,
     "metadata": {},
     "output_type": "execute_result"
    },
    {
     "data": {
      "text/plain": [
       "KNeighborsClassifier(n_neighbors=3)"
      ]
     },
     "execution_count": 18,
     "metadata": {},
     "output_type": "execute_result"
    },
    {
     "data": {
      "text/plain": [
       "KNeighborsClassifier(n_neighbors=4)"
      ]
     },
     "execution_count": 18,
     "metadata": {},
     "output_type": "execute_result"
    },
    {
     "data": {
      "text/plain": [
       "KNeighborsClassifier()"
      ]
     },
     "execution_count": 18,
     "metadata": {},
     "output_type": "execute_result"
    },
    {
     "data": {
      "text/plain": [
       "KNeighborsClassifier(n_neighbors=6)"
      ]
     },
     "execution_count": 18,
     "metadata": {},
     "output_type": "execute_result"
    },
    {
     "data": {
      "text/plain": [
       "KNeighborsClassifier(n_neighbors=7)"
      ]
     },
     "execution_count": 18,
     "metadata": {},
     "output_type": "execute_result"
    },
    {
     "data": {
      "text/plain": [
       "KNeighborsClassifier(n_neighbors=8)"
      ]
     },
     "execution_count": 18,
     "metadata": {},
     "output_type": "execute_result"
    },
    {
     "data": {
      "text/plain": [
       "KNeighborsClassifier(n_neighbors=9)"
      ]
     },
     "execution_count": 18,
     "metadata": {},
     "output_type": "execute_result"
    },
    {
     "data": {
      "text/plain": [
       "KNeighborsClassifier(n_neighbors=10)"
      ]
     },
     "execution_count": 18,
     "metadata": {},
     "output_type": "execute_result"
    }
   ],
   "source": [
    "from sklearn.neighbors import KNeighborsClassifier\n",
    "\n",
    "# Now do the same thing using the sklearn's kNN Regressor\n",
    "\n",
    "sklearn_test_errors = dict()\n",
    "\n",
    "for k in range(1, 11):\n",
    "    knn_clf = KNeighborsClassifier(n_neighbors = k)\n",
    "    knn_clf.fit(X_train, y_train)\n",
    "    sklearn_test_predictions = knn_clf.predict(X_test)  \n",
    "    sklearn_test_errors[k] = (y_test == sklearn_test_predictions).sum() / len(y_test)"
   ]
  },
  {
   "cell_type": "code",
   "execution_count": 19,
   "id": "b0948ada-e619-4ee0-a015-060967af47d4",
   "metadata": {},
   "outputs": [
    {
     "data": {
      "image/png": "[encoded data removed]",
      "text/plain": [
       "<Figure size 864x432 with 2 Axes>"
      ]
     },
     "metadata": {
      "needs_background": "light"
     },
     "output_type": "display_data"
    }
   ],
   "source": [
    "# Compare my kNN Regressor with the one from sklearn by plotting side by side the errors each of them yields \n",
    "# on the test data\n",
    "\n",
    "fig, axs = plt.subplots(1,2, figsize = (12, 6))\n",
    "\n",
    "_ = sns.barplot(x = list(my_test_accuracy_scores.keys()), y = list(my_test_accuracy_scores.values()), ax = axs[0]);\n",
    "_ = sns.barplot(x = list(sklearn_test_errors.keys()), y = list(sklearn_test_errors.values()), ax = axs[1]);\n",
    "\n",
    "_ = axs[0].set_ylabel(\"accuracy_score\")\n",
    "\n",
    "for ax in axs:\n",
    "    _ = ax.set_xlabel(\"n_neighbors\")\n",
    "\n",
    "_ = axs[0].set_title(\"My kNN Classifier\")    \n",
    "_ = axs[1].set_title(\"sklearn's kNN Classifier\")    \n",
    "\n",
    "_ = fig.suptitle(\"Performance of Mine vs. sklearn's kNN Classifier on the Test Set\", weight = \"bold\")"
   ]
  },
  {
   "cell_type": "markdown",
   "id": "b5b9f586-4b67-417b-a8d3-207e3e7c3129",
   "metadata": {},
   "source": [
    "The scores of the two models are identical except for when we use either 2 or 4 neighbors; in this case my model is more accurate than sklearn's. This discrepancy must be a consequence of how each model breaks ties. [Doing some digging](https://stats.stackexchange.com/questions/144718/how-does-scikit-learn-resolve-ties-in-the-knn-classification#:~:text=So%2C%20in%20the%20case%20of%20ties%2C%20the%20answer%20will%20be%20the%20class%20that%20happens%20to%20appear%20first%20in%20the%20set%20of%20neighbors.), one finds out that, in case of a tie, sklearn's kNN classifier predicts the class that appears first in the set of neighbors: this explains why my algorithm performs better."
   ]
  },
  {
   "cell_type": "markdown",
   "id": "07df0acf-eddc-4ecb-bb0f-d0284752b9b1",
   "metadata": {},
   "source": [
    "## Visualize the kNN Algorithm"
   ]
  },
  {
   "cell_type": "code",
   "execution_count": 20,
   "id": "f7c6711e-b07c-4670-bb82-2d06b5c866f3",
   "metadata": {},
   "outputs": [],
   "source": [
    "from sklearn.decomposition import PCA\n",
    "\n",
    "# Perform dimensionality reduction in order to be able to visualize the samples and the clusters\n",
    "pca = PCA(n_components = 2) # We use 2 components so that we can use planar plots \n",
    "X_train_2D = pd.DataFrame(pca.fit_transform(X_train), index = X_train.index)\n",
    "X_test_2D = pd.DataFrame(pca.fit_transform(X_test), index = X_test.index)"
   ]
  },
  {
   "cell_type": "code",
   "execution_count": 21,
   "id": "5011135b-4927-411c-a73f-ea9b593ab279",
   "metadata": {},
   "outputs": [],
   "source": [
    "import time\n",
    "from IPython.display import clear_output\n",
    "\n",
    "def display_knn(n_demos = 3, n_neighbors = 3):\n",
    "    \"\"\"\n",
    "    Visualize the k-Nearest Neighbors algorithm by drawing a dynamic scatterplot with the training data, the training data and\n",
    "    a random new sample, the training data, a random new sample and its nearest neighbors.\n",
    "    \n",
    "    :param n_demos: the number of demos to visualize\n",
    "    :type n_demos: int, default = 3\n",
    "    :param n_neighbors: the number of nearest neighbors to use\n",
    "    :type n_neighborss: int, default = 3\n",
    "    \"\"\"\n",
    "    \n",
    "    # Pick random test samples\n",
    "    random_samples = X_test_2D.sample(n_demos) \n",
    "    \n",
    "    # Run knn to find all the nearest neighbors of all the test samples\n",
    "    distances_2D = find_distances(X_train_2D, random_samples)\n",
    "    knn_output_2D = knn_predict(y_train, distances_2D, n_neighbors)\n",
    "    samples_nearest_neighbors = knn_output_2D[\"nearest_neighbors\"]\n",
    "    \n",
    "    # Loop through the samples\n",
    "    for i in range(n_demos):\n",
    "        \n",
    "        # Fix the current sample\n",
    "        random_sample = random_samples.iloc[i]\n",
    "        \n",
    "        # Find the nearest neighbors to the current sample\n",
    "        nearest_neighbors_index = samples_nearest_neighbors.iloc[i]\n",
    "        nearest_neighbors = X_train_2D.loc[nearest_neighbors_index]\n",
    "        \n",
    "        # Draw scatterplot with the training data\n",
    "        fig, ax = plt.subplots(figsize = (8,8))\n",
    "        ax.scatter(x = X_train_2D.iloc[:, 0], y = X_train_2D.iloc[:, 1],    # Draw the training data in yellow\n",
    "                   c = \"y\", label = \"training data\");\n",
    "        plt.title(\"{}-Nearest Neighbors Algorithm\".format(n_neighbors), weight = \"bold\");\n",
    "        plt.legend(loc = \"lower right\");\n",
    "        plt.show();\n",
    "        time.sleep(3)  # Wait 3 seconds before drawing the next plot\n",
    "        clear_output(wait = True)  # Clear the current plot before drawing the next one\n",
    "        \n",
    "        # Draw scatterplot with the training data and the current test sample\n",
    "        fig, ax = plt.subplots(figsize = (8,8))\n",
    "        ax.scatter(x = X_train_2D.iloc[:, 0], y = X_train_2D.iloc[:, 1],    # Draw the training data in yellow\n",
    "                   c = \"y\", label = \"training data\");\n",
    "        ax.scatter(x = [random_sample[0]], y = [random_sample[1]],    # Draw the new sample in red\n",
    "                   c = \"r\", alpha = 1, label = \"new sample\");\n",
    "        plt.title(\"{}-Nearest Neighbors Algorithm\".format(n_neighbors), weight = \"bold\");\n",
    "        plt.legend(loc = \"lower right\");\n",
    "        plt.show();\n",
    "        time.sleep(3)  # Wait 3 seconds before drawing the next plot\n",
    "        clear_output(wait = True)  # Clear the current plot before drawing the next one\n",
    "        \n",
    "        # Draw scatterplot with the training data, the current test sample and its nearest neighbors\n",
    "        fig, ax = plt.subplots(figsize = (8,8))\n",
    "        ax.scatter(x = X_train_2D.iloc[:, 0], y = X_train_2D.iloc[:, 1],    # Draw the training data in yellow\n",
    "                   c = \"y\", label = \"training data\");\n",
    "        ax.scatter(x = [random_sample[0]], y = [random_sample[1]],    # Draw the new sample in red\n",
    "                   c = \"r\", alpha = 1, label = \"new sample\");\n",
    "        ax.scatter(x = nearest_neighbors.iloc[:, 0], y = nearest_neighbors.iloc[:, 1],    # Draw the nearest neighbors in blue\n",
    "                   c = \"b\", label = \"nearest neighbors\");\n",
    "        plt.legend(loc = \"lower right\")\n",
    "        plt.title(\"{}-Nearest Neighbors Algorithm\".format(n_neighbors), weight = \"bold\");\n",
    "        plt.show();\n",
    "        time.sleep(3)  # Wait 3 seconds before drawing the next plot  \n",
    "        clear_output(wait = True)  # Clear the current plot before drawing the next one\n",
    "        \n",
    "    return"
   ]
  },
  {
   "cell_type": "code",
   "execution_count": 22,
   "id": "1c2337fb-ead4-4035-aac1-0fefb104c7b1",
   "metadata": {},
   "outputs": [
    {
     "data": {
      "image/png": "[encoded data removed]",
      "text/plain": [
       "<Figure size 576x576 with 1 Axes>"
      ]
     },
     "metadata": {
      "needs_background": "light"
     },
     "output_type": "display_data"
    }
   ],
   "source": [
    "display_knn(n_neighbors = 5)"
   ]
  }
 ],
 "metadata": {
  "kernelspec": {
   "display_name": "Python 3 (ipykernel)",
   "language": "python",
   "name": "python3"
  },
  "language_info": {
   "codemirror_mode": {
    "name": "ipython",
    "version": 3
   },
   "file_extension": ".py",
   "mimetype": "text/x-python",
   "name": "python",
   "nbconvert_exporter": "python",
   "pygments_lexer": "ipython3",
   "version": "3.9.7"
  }
 },
 "nbformat": 4,
 "nbformat_minor": 5
}
