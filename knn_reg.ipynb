{
 "cells": [
  {
   "cell_type": "markdown",
   "id": "20315ade-c160-4ac7-9760-1bb19cf7e07d",
   "metadata": {},
   "source": [
    "# k-Nearest Neighbors Regression from Scratch"
   ]
  },
  {
   "cell_type": "markdown",
   "id": "c221e89b-b429-43d4-b1b4-1e8957e22243",
   "metadata": {},
   "source": [
    "## Prepare the Data"
   ]
  },
  {
   "cell_type": "markdown",
   "id": "1e8f9ae8-09f7-4e6f-a545-a4f876688b7d",
   "metadata": {},
   "source": [
    "### Loading the Data"
   ]
  },
  {
   "cell_type": "code",
   "execution_count": 1,
   "id": "e27c0b24-705e-4c78-b850-bd859c78b4a6",
   "metadata": {},
   "outputs": [],
   "source": [
    "from sklearn import datasets\n",
    "import pandas as pd\n",
    "from IPython.core.interactiveshell import InteractiveShell\n",
    "InteractiveShell.ast_node_interactivity = \"all\"\n",
    "\n",
    "# Load the diabetes toy dataset\n",
    "diabetes = datasets.load_diabetes(as_frame = True)"
   ]
  },
  {
   "cell_type": "code",
   "execution_count": 2,
   "id": "1bebc85d-c83b-483f-af8a-b91833f032a5",
   "metadata": {},
   "outputs": [
    {
     "data": {
      "text/html": [
       "<div>\n",
       "<style scoped>\n",
       "    .dataframe tbody tr th:only-of-type {\n",
       "        vertical-align: middle;\n",
       "    }\n",
       "\n",
       "    .dataframe tbody tr th {\n",
       "        vertical-align: top;\n",
       "    }\n",
       "\n",
       "    .dataframe thead th {\n",
       "        text-align: right;\n",
       "    }\n",
       "</style>\n",
       "<table border=\"1\" class=\"dataframe\">\n",
       "  <thead>\n",
       "    <tr style=\"text-align: right;\">\n",
       "      <th></th>\n",
       "      <th>age</th>\n",
       "      <th>sex</th>\n",
       "      <th>bmi</th>\n",
       "      <th>bp</th>\n",
       "      <th>s1</th>\n",
       "      <th>s2</th>\n",
       "      <th>s3</th>\n",
       "      <th>s4</th>\n",
       "      <th>s5</th>\n",
       "      <th>s6</th>\n",
       "      <th>target</th>\n",
       "    </tr>\n",
       "  </thead>\n",
       "  <tbody>\n",
       "    <tr>\n",
       "      <th>0</th>\n",
       "      <td>0.038076</td>\n",
       "      <td>0.050680</td>\n",
       "      <td>0.061696</td>\n",
       "      <td>0.021872</td>\n",
       "      <td>-0.044223</td>\n",
       "      <td>-0.034821</td>\n",
       "      <td>-0.043401</td>\n",
       "      <td>-0.002592</td>\n",
       "      <td>0.019908</td>\n",
       "      <td>-0.017646</td>\n",
       "      <td>151.0</td>\n",
       "    </tr>\n",
       "    <tr>\n",
       "      <th>1</th>\n",
       "      <td>-0.001882</td>\n",
       "      <td>-0.044642</td>\n",
       "      <td>-0.051474</td>\n",
       "      <td>-0.026328</td>\n",
       "      <td>-0.008449</td>\n",
       "      <td>-0.019163</td>\n",
       "      <td>0.074412</td>\n",
       "      <td>-0.039493</td>\n",
       "      <td>-0.068330</td>\n",
       "      <td>-0.092204</td>\n",
       "      <td>75.0</td>\n",
       "    </tr>\n",
       "    <tr>\n",
       "      <th>2</th>\n",
       "      <td>0.085299</td>\n",
       "      <td>0.050680</td>\n",
       "      <td>0.044451</td>\n",
       "      <td>-0.005671</td>\n",
       "      <td>-0.045599</td>\n",
       "      <td>-0.034194</td>\n",
       "      <td>-0.032356</td>\n",
       "      <td>-0.002592</td>\n",
       "      <td>0.002864</td>\n",
       "      <td>-0.025930</td>\n",
       "      <td>141.0</td>\n",
       "    </tr>\n",
       "    <tr>\n",
       "      <th>3</th>\n",
       "      <td>-0.089063</td>\n",
       "      <td>-0.044642</td>\n",
       "      <td>-0.011595</td>\n",
       "      <td>-0.036656</td>\n",
       "      <td>0.012191</td>\n",
       "      <td>0.024991</td>\n",
       "      <td>-0.036038</td>\n",
       "      <td>0.034309</td>\n",
       "      <td>0.022692</td>\n",
       "      <td>-0.009362</td>\n",
       "      <td>206.0</td>\n",
       "    </tr>\n",
       "    <tr>\n",
       "      <th>4</th>\n",
       "      <td>0.005383</td>\n",
       "      <td>-0.044642</td>\n",
       "      <td>-0.036385</td>\n",
       "      <td>0.021872</td>\n",
       "      <td>0.003935</td>\n",
       "      <td>0.015596</td>\n",
       "      <td>0.008142</td>\n",
       "      <td>-0.002592</td>\n",
       "      <td>-0.031991</td>\n",
       "      <td>-0.046641</td>\n",
       "      <td>135.0</td>\n",
       "    </tr>\n",
       "  </tbody>\n",
       "</table>\n",
       "</div>"
      ],
      "text/plain": [
       "        age       sex       bmi        bp        s1        s2        s3  \\\n",
       "0  0.038076  0.050680  0.061696  0.021872 -0.044223 -0.034821 -0.043401   \n",
       "1 -0.001882 -0.044642 -0.051474 -0.026328 -0.008449 -0.019163  0.074412   \n",
       "2  0.085299  0.050680  0.044451 -0.005671 -0.045599 -0.034194 -0.032356   \n",
       "3 -0.089063 -0.044642 -0.011595 -0.036656  0.012191  0.024991 -0.036038   \n",
       "4  0.005383 -0.044642 -0.036385  0.021872  0.003935  0.015596  0.008142   \n",
       "\n",
       "         s4        s5        s6  target  \n",
       "0 -0.002592  0.019908 -0.017646   151.0  \n",
       "1 -0.039493 -0.068330 -0.092204    75.0  \n",
       "2 -0.002592  0.002864 -0.025930   141.0  \n",
       "3  0.034309  0.022692 -0.009362   206.0  \n",
       "4 -0.002592 -0.031991 -0.046641   135.0  "
      ]
     },
     "execution_count": 2,
     "metadata": {},
     "output_type": "execute_result"
    }
   ],
   "source": [
    "# Take a look at the dataframe\n",
    "data = diabetes[\"frame\"]\n",
    "data.head()"
   ]
  },
  {
   "cell_type": "code",
   "execution_count": 3,
   "id": "7d32c87f-c77f-4b60-b7ae-636f5a2013cf",
   "metadata": {},
   "outputs": [
    {
     "name": "stdout",
     "output_type": "stream",
     "text": [
      ".. _diabetes_dataset:\n",
      "\n",
      "Diabetes dataset\n",
      "----------------\n",
      "\n",
      "Ten baseline variables, age, sex, body mass index, average blood\n",
      "pressure, and six blood serum measurements were obtained for each of n =\n",
      "442 diabetes patients, as well as the response of interest, a\n",
      "quantitative measure of disease progression one year after baseline.\n",
      "\n",
      "**Data Set Characteristics:**\n",
      "\n",
      "  :Number of Instances: 442\n",
      "\n",
      "  :Number of Attributes: First 10 columns are numeric predictive values\n",
      "\n",
      "  :Target: Column 11 is a quantitative measure of disease progression one year after baseline\n",
      "\n",
      "  :Attribute Information:\n",
      "      - age     age in years\n",
      "      - sex\n",
      "      - bmi     body mass index\n",
      "      - bp      average blood pressure\n",
      "      - s1      tc, total serum cholesterol\n",
      "      - s2      ldl, low-density lipoproteins\n",
      "      - s3      hdl, high-density lipoproteins\n",
      "      - s4      tch, total cholesterol / HDL\n",
      "      - s5      ltg, possibly log of serum triglycerides level\n",
      "      - s6      glu, blood sugar level\n",
      "\n",
      "Note: Each of these 10 feature variables have been mean centered and scaled by the standard deviation times `n_samples` (i.e. the sum of squares of each column totals 1).\n",
      "\n",
      "Source URL:\n",
      "https://www4.stat.ncsu.edu/~boos/var.select/diabetes.html\n",
      "\n",
      "For more information see:\n",
      "Bradley Efron, Trevor Hastie, Iain Johnstone and Robert Tibshirani (2004) \"Least Angle Regression,\" Annals of Statistics (with discussion), 407-499.\n",
      "(https://web.stanford.edu/~hastie/Papers/LARS/LeastAngle_2002.pdf)\n"
     ]
    }
   ],
   "source": [
    "# Print info about the dataframe\n",
    "print(diabetes[\"DESCR\"])"
   ]
  },
  {
   "cell_type": "markdown",
   "id": "33bfeaab-b881-4926-9c06-2630dd59fbc7",
   "metadata": {},
   "source": [
    "### Selecting Features and Target Variable"
   ]
  },
  {
   "cell_type": "code",
   "execution_count": 4,
   "id": "cdfaa921-9a8e-48dd-9f87-2fb37a69cc7f",
   "metadata": {},
   "outputs": [],
   "source": [
    "# We will only use the following 3 features\n",
    "features = [\"age\", \"bmi\", \"bp\"]"
   ]
  },
  {
   "cell_type": "code",
   "execution_count": 5,
   "id": "c2c0f44e-93d1-4ae7-a523-a97a66fc4227",
   "metadata": {},
   "outputs": [],
   "source": [
    "# Separate features and target variable\n",
    "X = data[features].copy()\n",
    "y = data[\"target\"].copy()"
   ]
  },
  {
   "cell_type": "markdown",
   "id": "d1355d97-b92c-4350-888b-cca653d707f8",
   "metadata": {},
   "source": [
    "### Normalizing the Data"
   ]
  },
  {
   "cell_type": "markdown",
   "id": "26c0dbfd-d720-493e-b2de-0c4109ec7db1",
   "metadata": {},
   "source": [
    "Since kNN uses the euclidean distance to find the nearest neighbors, we need to normalize the data to make sure all features have the same bearing in the calculations. In this case, we will normalize the data using the min/max scaler."
   ]
  },
  {
   "cell_type": "code",
   "execution_count": 6,
   "id": "ecf3e436-3772-424a-bbff-7f684bac2904",
   "metadata": {},
   "outputs": [],
   "source": [
    "# Normalize the data using the min/max scaler\n",
    "X = (X - X.min()) / (X.max() - X.min())"
   ]
  },
  {
   "cell_type": "markdown",
   "id": "53ec74fc-fb81-44b2-b83e-4b603b957421",
   "metadata": {},
   "source": [
    "### Splitting Training and Test Set"
   ]
  },
  {
   "cell_type": "code",
   "execution_count": 7,
   "id": "3d3a2dfb-6188-4de6-8ba2-b2435833d78b",
   "metadata": {},
   "outputs": [],
   "source": [
    "import numpy as np\n",
    "\n",
    "# Permute the dataframe to kill any possible ordering used\n",
    "np.random.seed(0)      # Fix a random seed to allow reproducibility\n",
    "old_index = data.index\n",
    "new_index = np.random.permutation(old_index)\n",
    "\n",
    "X = X.loc[new_index].reset_index(drop = True)\n",
    "y = y.loc[new_index].reset_index(drop = True)"
   ]
  },
  {
   "cell_type": "code",
   "execution_count": 8,
   "id": "70ee0a84-dc44-4934-a7bd-4238bce9fd2a",
   "metadata": {},
   "outputs": [],
   "source": [
    "# Use 80% of the data for training purposes and the remaining 20% for testing purposes\n",
    "train_test_cut = int(np.floor(len(X)*0.8))"
   ]
  },
  {
   "cell_type": "code",
   "execution_count": 9,
   "id": "99146ed7-32e0-4346-9cb5-bfb52ac46a27",
   "metadata": {},
   "outputs": [],
   "source": [
    "# Create the training set\n",
    "X_train = X.iloc[: train_test_cut].copy()\n",
    "y_train = y.iloc[: train_test_cut].copy()"
   ]
  },
  {
   "cell_type": "code",
   "execution_count": 10,
   "id": "f06e35a6-bb72-43ff-9fc7-efa540f7348a",
   "metadata": {},
   "outputs": [],
   "source": [
    "# Create the test set\n",
    "X_test = X.iloc[train_test_cut :].copy()\n",
    "y_test = y.iloc[train_test_cut :].copy()"
   ]
  },
  {
   "cell_type": "code",
   "execution_count": 11,
   "id": "a91c3210-97e5-40fa-80d9-a04f56f0d28c",
   "metadata": {},
   "outputs": [
    {
     "name": "stdout",
     "output_type": "stream",
     "text": [
      "The training set has 353 samples\n",
      "The test set has 89 samples\n"
     ]
    }
   ],
   "source": [
    "print(\"The training set has {} samples\".format(len(X_train)))\n",
    "print(\"The test set has {} samples\".format(len(X_test)))"
   ]
  },
  {
   "cell_type": "markdown",
   "id": "0b20c3ec-65e0-4aaa-b647-89940e6e0d0a",
   "metadata": {},
   "source": [
    "## Implement a k-Nearest Neighbors Regressor from Scratch"
   ]
  },
  {
   "cell_type": "markdown",
   "id": "110d0357-e33f-4c68-8c9b-0af72bb9f21e",
   "metadata": {},
   "source": [
    "### Pseudo Code of the kNN Regression Algorithm"
   ]
  },
  {
   "cell_type": "markdown",
   "id": "1f8f5714-d275-49f1-9f57-c608830ee551",
   "metadata": {},
   "source": [
    "In the following we denote by $\\bf x$ the collection of the training samples, by $\\bf y$ the corresponding target values and by $\\hat {\\bf x}$ the collection of the new samples we are trying to predict."
   ]
  },
  {
   "cell_type": "markdown",
   "id": "53f4bc40-89ff-48d2-b82c-4e8907090836",
   "metadata": {},
   "source": [
    "1. For each $\\hat x$ in $\\hat {\\bf x}$, find the distance between $\\hat x$ and each $x$ in $\\bf x$. \n",
    "2. For each $\\hat x$ in $\\hat {\\bf x}$, use these distances to find its `k` nearest neighbors, i.e., the `k` training samples with minimal distance from $\\hat x$ (here the `k` is an integer hyperparameter that is set at the beginning of the algorithm).\n",
    "3. If we denote by $x_1,\\dots, x_k$ these nearest neighbors, then the predicted value for the new sample $\\hat x$ is $(y_1+\\dots+ y_k) / k$, i.e., the average of the $\\{y_i\\}_{i = 1}^k$."
   ]
  },
  {
   "cell_type": "markdown",
   "id": "86da4463-1c50-46aa-b1e3-01c9f6d9f035",
   "metadata": {},
   "source": [
    "The metric used to compute distances is usually the Euclidean metric. However, the model we will implement will allow to use any $l_p$ distance. This is an infinite set of distances corresponding to the positive integers. More specifically, for any such $p$ the distance between the samples $x = (x_i)_{i=0}^n$ and $\\hat x = (\\hat {x}_i)_{i=0}^n$ is     \n",
    "$$\n",
    "\\Big(\\sum_{i=0}^n (x_i - \\hat {x}_i)^p\\Big)^{1/p}.\n",
    "$$"
   ]
  },
  {
   "cell_type": "markdown",
   "id": "2986383a-3e53-43ae-a9fa-e71d325fb77f",
   "metadata": {},
   "source": [
    "### Coding Step 1"
   ]
  },
  {
   "cell_type": "markdown",
   "id": "c74ea9cf-0b62-4a74-930e-95ac4da974bc",
   "metadata": {
    "tags": []
   },
   "source": [
    "It's important to notice that the vast majority of the calculations are done during Step 1 when computing the distances. Once we obtain these distances, it is fast and easy to find the `k` nearest neighbors (for different values of `k`) and use them to make predictions. For this reason, in order to achieve decent execution times, we implement Step 1 separately.  "
   ]
  },
  {
   "cell_type": "code",
   "execution_count": 12,
   "id": "78756481-0286-4c30-be84-f2c01436f9e5",
   "metadata": {},
   "outputs": [],
   "source": [
    "def find_distances(X, X_hat, p=2): # We set the same hyperparameter default values used by\n",
    "                                   # sklearn's instance of kNN Regressor\n",
    "    \"\"\"\n",
    "    Find the distances between the training data and the data we are trying to predict.\n",
    "    \n",
    "    :param X: the samples we use to train the model\n",
    "    :type X: pandas.DataFrame of shape (n_samples, n_features)\n",
    "    :param X_hat: the samples we want to predict\n",
    "    :type X_hat: pandas.DataFrame of shape (n_queries, n_features)\n",
    "    :param p: power parameter which determines which l_p metric is used. It must be in range (1, infty)\n",
    "    :type p: int, default = 2; this results in the Euclidean metric being used\n",
    "    \n",
    "    :return: a dataframe of shape(n_queries, n_samples); the rows are the distances of a the samples we want to predict\n",
    "             from each training sample \n",
    "    \"\"\"     \n",
    "    \n",
    "    # Transpose the training data to have the indexes on the columns\n",
    "    X = X.T\n",
    "    # Find the distances between each new sample and each training sample\n",
    "    distances = X.apply(lambda x : (((X_hat - x)**p).sum(axis = 1)) ** (1/p))\n",
    "    \n",
    "    return distances"
   ]
  },
  {
   "cell_type": "markdown",
   "id": "e3ff70e6-a762-4b90-9b3b-0f707918ca04",
   "metadata": {},
   "source": [
    "### Coding the Rest of the Algorithm"
   ]
  },
  {
   "cell_type": "code",
   "execution_count": 13,
   "id": "50eb842c-eac5-4a1f-9bb5-50bd19e71d68",
   "metadata": {},
   "outputs": [],
   "source": [
    "def knn_predict(y, distances, n_neighbors=5): # We set the same hyperparameter default values used by\n",
    "                                              # sklearn's instance of kNN Regressor\n",
    "    \"\"\"\n",
    "    Run the k-Nearest Neighbors regression algorithm and use it to make predictions.\n",
    "    \n",
    "    :param y: the target values of the training data\n",
    "    :type y: pandas.Series of shape (n_samples,)\n",
    "    :param distances: the distances between all the training samples and the new samples\n",
    "    :type distances: pd.DataFrame of shape (n_queries, n_samples)\n",
    "    :param n_neighbors: the number of neighbors to use in the algorithm\n",
    "    :type n_neighbors: int, default = 5\n",
    "    \n",
    "    :return: output, a dataframe with the following columns\n",
    "                 \"nearest_neighbors\", contains the indexes of the k-nearest neighbors to each new sample we used\n",
    "                 \"predictions\", contains the predicted values\n",
    "    \"\"\"\n",
    "    \n",
    "    # STEP 2: use the distances to find the nearest neighbors.\n",
    "    #         The distances will be computed before running this function using the find_distances()\n",
    "    nearest_neighbors = distances.apply(lambda x : x.sort_values(ascending = True).iloc[:n_neighbors].index, axis = 1)\n",
    "    \n",
    "    # STEP 3: use the nearest neighbors to predict the target variable\n",
    "    predictions = nearest_neighbors.apply(lambda x : y.loc[x].mean())\n",
    "    \n",
    "    # Return a dataframe with both the nearest neighbors and the predicted values\n",
    "    output = pd.DataFrame({\"nearest_neighbors\".format(n_neighbors) : nearest_neighbors,\n",
    "                           \"predictions\" : predictions})\n",
    "    \n",
    "    return output                              "
   ]
  },
  {
   "cell_type": "markdown",
   "id": "36706fb7-1314-4c4e-be41-1045cfe463af",
   "metadata": {},
   "source": [
    "## Evaluating my kNN Regressor"
   ]
  },
  {
   "cell_type": "code",
   "execution_count": 14,
   "id": "34e34d8a-d685-40bd-b7aa-6a0b723377da",
   "metadata": {},
   "outputs": [],
   "source": [
    "# Initialize a dictionary to evaluate the performance of my kNN Regressor on the test data\n",
    "my_test_errors = dict()\n",
    "# Initialize the samples we want to predict (in this case, the test data)\n",
    "X_hat = X_test\n",
    "\n",
    "# Get the distances between the training samples and the samples we want to predict\n",
    "distances = find_distances(X_train, X_hat)\n",
    "\n",
    "# Use my kNN Regressor to predict the test data at different values of n_neighbors\n",
    "# Evaluate the model using RMSE and collect all these values into a dictionary\n",
    "for k in range(1, 11):  # We use values of k beetween 1 and 10\n",
    "    knn_output = knn_predict(y_train, distances, k)\n",
    "    my_test_predictions = knn_output[\"predictions\"]\n",
    "    my_test_errors[k] = np.sqrt((y_test - my_test_predictions).apply(lambda x : x**2).mean())"
   ]
  },
  {
   "cell_type": "code",
   "execution_count": 15,
   "id": "fc9642bc-8b2e-48c4-ba5d-f3ecd1bc218e",
   "metadata": {},
   "outputs": [
    {
     "data": {
      "image/png": "[encoded data removed]",
      "text/plain": [
       "<Figure size 432x288 with 1 Axes>"
      ]
     },
     "metadata": {
      "needs_background": "light"
     },
     "output_type": "display_data"
    }
   ],
   "source": [
    "import matplotlib.pyplot as plt\n",
    "import seaborn as sns\n",
    "\n",
    "# Plot the errors we obtain\n",
    "sns.barplot(x = list(my_test_errors.keys()), y = list(my_test_errors.values()))\n",
    "plt.xlabel(\"n_neighbors\");\n",
    "plt.ylabel(\"RMSE\");\n",
    "plt.title(\"Performance of my kNN Regressor\\n on the Test Set at Different k Values\", weight = \"bold\");"
   ]
  },
  {
   "cell_type": "markdown",
   "id": "97dc86e5-2950-4b56-8ca4-89d4cccb9030",
   "metadata": {},
   "source": [
    "## Comparing my Model to sklearn's Implementation of kNN Regressor"
   ]
  },
  {
   "cell_type": "code",
   "execution_count": 16,
   "id": "5063fc47-3c0a-43ef-ac69-3f8905d08a74",
   "metadata": {},
   "outputs": [
    {
     "data": {
      "text/plain": [
       "KNeighborsRegressor(n_neighbors=1)"
      ]
     },
     "execution_count": 16,
     "metadata": {},
     "output_type": "execute_result"
    },
    {
     "data": {
      "text/plain": [
       "KNeighborsRegressor(n_neighbors=2)"
      ]
     },
     "execution_count": 16,
     "metadata": {},
     "output_type": "execute_result"
    },
    {
     "data": {
      "text/plain": [
       "KNeighborsRegressor(n_neighbors=3)"
      ]
     },
     "execution_count": 16,
     "metadata": {},
     "output_type": "execute_result"
    },
    {
     "data": {
      "text/plain": [
       "KNeighborsRegressor(n_neighbors=4)"
      ]
     },
     "execution_count": 16,
     "metadata": {},
     "output_type": "execute_result"
    },
    {
     "data": {
      "text/plain": [
       "KNeighborsRegressor()"
      ]
     },
     "execution_count": 16,
     "metadata": {},
     "output_type": "execute_result"
    },
    {
     "data": {
      "text/plain": [
       "KNeighborsRegressor(n_neighbors=6)"
      ]
     },
     "execution_count": 16,
     "metadata": {},
     "output_type": "execute_result"
    },
    {
     "data": {
      "text/plain": [
       "KNeighborsRegressor(n_neighbors=7)"
      ]
     },
     "execution_count": 16,
     "metadata": {},
     "output_type": "execute_result"
    },
    {
     "data": {
      "text/plain": [
       "KNeighborsRegressor(n_neighbors=8)"
      ]
     },
     "execution_count": 16,
     "metadata": {},
     "output_type": "execute_result"
    },
    {
     "data": {
      "text/plain": [
       "KNeighborsRegressor(n_neighbors=9)"
      ]
     },
     "execution_count": 16,
     "metadata": {},
     "output_type": "execute_result"
    },
    {
     "data": {
      "text/plain": [
       "KNeighborsRegressor(n_neighbors=10)"
      ]
     },
     "execution_count": 16,
     "metadata": {},
     "output_type": "execute_result"
    }
   ],
   "source": [
    "from sklearn.neighbors import KNeighborsRegressor\n",
    "\n",
    "# Now do the same thing using the sklearn's kNN Regressor\n",
    "\n",
    "sklearn_test_errors = dict()\n",
    "\n",
    "for k in range(1, 11):\n",
    "    knn_regr = KNeighborsRegressor(n_neighbors = k)\n",
    "    knn_regr.fit(X_train, y_train)\n",
    "    sklearn_test_predictions = knn_regr.predict(X_test)  \n",
    "    sklearn_test_errors[k] = np.sqrt((y_test - sklearn_test_predictions).apply(lambda x : x**2).mean())"
   ]
  },
  {
   "cell_type": "code",
   "execution_count": 17,
   "id": "b0948ada-e619-4ee0-a015-060967af47d4",
   "metadata": {},
   "outputs": [
    {
     "data": {
      "image/png": "[encoded data removed]",
      "text/plain": [
       "<Figure size 864x432 with 2 Axes>"
      ]
     },
     "metadata": {
      "needs_background": "light"
     },
     "output_type": "display_data"
    }
   ],
   "source": [
    "# Compare my kNN Regressor with the one from sklearn by plotting side by side the errors each of them yields \n",
    "# on the test data\n",
    "\n",
    "fig, axs = plt.subplots(1,2, figsize = (12, 6))\n",
    "\n",
    "_ = sns.barplot(x = list(my_test_errors.keys()), y = list(my_test_errors.values()), ax = axs[0]);\n",
    "_ = sns.barplot(x = list(sklearn_test_errors.keys()), y = list(sklearn_test_errors.values()), ax = axs[1]);\n",
    "\n",
    "_ = axs[0].set_ylabel(\"RMSE\")\n",
    "\n",
    "for ax in axs:\n",
    "    _ = ax.set_xlabel(\"n_neighbors\")\n",
    "\n",
    "_ = axs[0].set_title(\"My kNN Regressor\")    \n",
    "_ = axs[1].set_title(\"sklearn's kNN Regressor\")    \n",
    "\n",
    "_ = fig.suptitle(\"Performance of Mine vs. sklearn's kNN Regressor on the Test Set\", weight = \"bold\")"
   ]
  },
  {
   "cell_type": "markdown",
   "id": "07df0acf-eddc-4ecb-bb0f-d0284752b9b1",
   "metadata": {},
   "source": [
    "## Visualize the kNN Algorithm"
   ]
  },
  {
   "cell_type": "code",
   "execution_count": 18,
   "id": "857c3084-15d3-44be-994e-812829147ee5",
   "metadata": {},
   "outputs": [],
   "source": [
    "from sklearn.decomposition import PCA\n",
    "\n",
    "# Perform dimensionality reduction in order to be able to visualize the samples and the clusters\n",
    "pca = PCA(n_components = 2) # We use 2 components so that we can use planar plots \n",
    "X_train_2D = pd.DataFrame(pca.fit_transform(X_train), index = X_train.index)\n",
    "X_test_2D = pd.DataFrame(pca.fit_transform(X_test), index = X_test.index)"
   ]
  },
  {
   "cell_type": "code",
   "execution_count": 19,
   "id": "0297dbe7-ec64-40b9-b36b-0e9f189f433c",
   "metadata": {},
   "outputs": [],
   "source": [
    "import time\n",
    "from IPython.display import clear_output\n",
    "\n",
    "def display_knn_prova(n_demos = 3, n_neighbors = 3):\n",
    "    \"\"\"\n",
    "    Visualize the k-Nearest Neighbors algorithm by drawing a dynamic scatterplot with the training data, the training data and\n",
    "    a random new sample, the training data, a random new sample and its nearest neighbors.\n",
    "    \n",
    "    :param n_demos: the number of demos to visualize\n",
    "    :type n_demos: int, default = 3\n",
    "    :param n_neighbors: the number of nearest neighbors to use\n",
    "    :type n_neighborss: int, default = 3\n",
    "    \"\"\"\n",
    "    \n",
    "    # Pick random test samples\n",
    "    random_samples = X_test_2D.sample(n_demos) \n",
    "    \n",
    "    # Run knn to find all the nearest neighbors of all the test samples\n",
    "    distances_2D = find_distances(X_train_2D, random_samples)\n",
    "    knn_output_2D = knn_predict(y_train, distances_2D, n_neighbors)\n",
    "    samples_nearest_neighbors = knn_output_2D[\"nearest_neighbors\"]\n",
    "    \n",
    "    # Loop through the samples\n",
    "    for i in range(n_demos):\n",
    "        \n",
    "        # Fix the current sample\n",
    "        random_sample = random_samples.iloc[i]\n",
    "        \n",
    "        # Find the nearest neighbors to the current sample\n",
    "        nearest_neighbors_index = samples_nearest_neighbors.iloc[i]\n",
    "        nearest_neighbors = X_train_2D.loc[nearest_neighbors_index]\n",
    "        \n",
    "        # Draw scatterplot with the training data\n",
    "        fig, ax = plt.subplots(figsize = (8,8))\n",
    "        ax.scatter(x = X_train_2D.iloc[:, 0], y = X_train_2D.iloc[:, 1],    # Draw the training data in yellow\n",
    "                   c = \"y\", label = \"training data\");\n",
    "        plt.title(\"{}-Nearest Neighbors Algorithm\".format(n_neighbors), weight = \"bold\");\n",
    "        plt.legend(loc = \"lower right\");\n",
    "        plt.show();\n",
    "        time.sleep(3)  # Wait 3 seconds before drawing the next plot\n",
    "        clear_output(wait = True)  # Clear the current plot before drawing the next one\n",
    "        \n",
    "        # Draw scatterplot with the training data and the current test sample\n",
    "        fig, ax = plt.subplots(figsize = (8,8))\n",
    "        ax.scatter(x = X_train_2D.iloc[:, 0], y = X_train_2D.iloc[:, 1],    # Draw the training data in yellow\n",
    "                   c = \"y\", label = \"training data\");\n",
    "        ax.scatter(x = [random_sample[0]], y = [random_sample[1]],    # Draw the new sample in red\n",
    "                   c = \"r\", alpha = 1, label = \"new sample\");\n",
    "        plt.title(\"{}-Nearest Neighbors Algorithm\".format(n_neighbors), weight = \"bold\");\n",
    "        plt.legend(loc = \"lower right\");\n",
    "        plt.show();\n",
    "        time.sleep(3)  # Wait 3 seconds before drawing the next plot\n",
    "        clear_output(wait = True)  # Clear the current plot before drawing the next one\n",
    "        \n",
    "        # Draw scatterplot with the training data, the current test sample and its nearest neighbors\n",
    "        fig, ax = plt.subplots(figsize = (8,8))\n",
    "        ax.scatter(x = X_train_2D.iloc[:, 0], y = X_train_2D.iloc[:, 1],    # Draw the training data in yellow\n",
    "                   c = \"y\", label = \"training data\");\n",
    "        ax.scatter(x = [random_sample[0]], y = [random_sample[1]],    # Draw the new sample in red\n",
    "                   c = \"r\", alpha = 1, label = \"new sample\");\n",
    "        ax.scatter(x = nearest_neighbors.iloc[:, 0], y = nearest_neighbors.iloc[:, 1],    # Draw the nearest neighbors in blue\n",
    "                   c = \"b\", label = \"nearest neighbors\");\n",
    "        plt.legend(loc = \"lower right\")\n",
    "        plt.title(\"{}-Nearest Neighbors Algorithm\".format(n_neighbors), weight = \"bold\");\n",
    "        plt.show();\n",
    "        time.sleep(3)  # Wait 3 seconds before drawing the next plot  \n",
    "        clear_output(wait = True)  # Clear the current plot before drawing the next one\n",
    "        \n",
    "    return"
   ]
  },
  {
   "cell_type": "code",
   "execution_count": 20,
   "id": "a0f71533-1b84-45e5-99db-e5a5979a8e5e",
   "metadata": {},
   "outputs": [
    {
     "data": {
      "image/png": "[encoded data removed]",
      "text/plain": [
       "<Figure size 576x576 with 1 Axes>"
      ]
     },
     "metadata": {
      "needs_background": "light"
     },
     "output_type": "display_data"
    }
   ],
   "source": [
    "# Visualize knn algorithm\n",
    "display_knn_prova(n_neighbors = 5)"
   ]
  }
 ],
 "metadata": {
  "kernelspec": {
   "display_name": "Python 3 (ipykernel)",
   "language": "python",
   "name": "python3"
  },
  "language_info": {
   "codemirror_mode": {
    "name": "ipython",
    "version": 3
   },
   "file_extension": ".py",
   "mimetype": "text/x-python",
   "name": "python",
   "nbconvert_exporter": "python",
   "pygments_lexer": "ipython3",
   "version": "3.9.7"
  }
 },
 "nbformat": 4,
 "nbformat_minor": 5
}
